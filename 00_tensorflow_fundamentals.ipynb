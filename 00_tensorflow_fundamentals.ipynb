{
  "nbformat": 4,
  "nbformat_minor": 0,
  "metadata": {
    "colab": {
      "name": "00_tensorflow_fundamentals.ipynb",
      "provenance": [],
      "toc_visible": true,
      "authorship_tag": "ABX9TyOM8rzhOnXCcSGpX+Iqib5Z",
      "include_colab_link": true
    },
    "kernelspec": {
      "name": "python3",
      "display_name": "Python 3"
    },
    "language_info": {
      "name": "python"
    },
    "accelerator": "GPU"
  },
  "cells": [
    {
      "cell_type": "markdown",
      "metadata": {
        "id": "view-in-github",
        "colab_type": "text"
      },
      "source": [
        "<a href=\"https://colab.research.google.com/github/swrogers/tensorflow-udemy/blob/main/00_tensorflow_fundamentals.ipynb\" target=\"_parent\"><img src=\"https://colab.research.google.com/assets/colab-badge.svg\" alt=\"Open In Colab\"/></a>"
      ]
    },
    {
      "cell_type": "markdown",
      "metadata": {
        "id": "Y0DoztqOPzKm"
      },
      "source": [
        "# In this notebook, we're going to cover some of the most fundamental concepts of tensors using TensorFlow.\n",
        "\n",
        "More specifically, we'll cover:\n",
        "* Introduction to tensors\n",
        "* Getting information from tensors\n",
        "* Manipulating tensors\n",
        "* Tensors and NumPy\n",
        "* Using @tf.function (speeding things up)\n",
        "* Using GPU/TPUs with Tensorflow\n",
        "* Exercises"
      ]
    },
    {
      "cell_type": "markdown",
      "metadata": {
        "id": "pqStWwrmQIu4"
      },
      "source": [
        "## Introduction to Tensors"
      ]
    },
    {
      "cell_type": "code",
      "metadata": {
        "colab": {
          "base_uri": "https://localhost:8080/"
        },
        "id": "dHfEU8T7Q2Pg",
        "outputId": "9682f9f9-9f23-496b-a52c-21f823ea9941"
      },
      "source": [
        "# Import TensorFlow\n",
        "import tensorflow as tf\n",
        "print(tf.__version__)"
      ],
      "execution_count": 3,
      "outputs": [
        {
          "output_type": "stream",
          "text": [
            "2.4.1\n"
          ],
          "name": "stdout"
        }
      ]
    },
    {
      "cell_type": "code",
      "metadata": {
        "colab": {
          "base_uri": "https://localhost:8080/"
        },
        "id": "ke22Fy53ROQk",
        "outputId": "24abb66e-5e50-48fc-9cd8-a4e9e827f9b7"
      },
      "source": [
        "# Create tensors with tf.constant()\n",
        "scalar = tf.constant(7)\n",
        "scalar"
      ],
      "execution_count": 4,
      "outputs": [
        {
          "output_type": "execute_result",
          "data": {
            "text/plain": [
              "<tf.Tensor: shape=(), dtype=int32, numpy=7>"
            ]
          },
          "metadata": {
            "tags": []
          },
          "execution_count": 4
        }
      ]
    },
    {
      "cell_type": "code",
      "metadata": {
        "colab": {
          "base_uri": "https://localhost:8080/"
        },
        "id": "j4U5qWOzRgZi",
        "outputId": "e589013c-9a58-4215-c644-71487db45391"
      },
      "source": [
        "# Check the number of dimensions of a tensor (ndim stands for number of dimensions)\n",
        "scalar.ndim"
      ],
      "execution_count": 5,
      "outputs": [
        {
          "output_type": "execute_result",
          "data": {
            "text/plain": [
              "0"
            ]
          },
          "metadata": {
            "tags": []
          },
          "execution_count": 5
        }
      ]
    },
    {
      "cell_type": "code",
      "metadata": {
        "colab": {
          "base_uri": "https://localhost:8080/"
        },
        "id": "2YKe1gcrRzl9",
        "outputId": "19f92712-c7bd-44e4-a5ef-312e1df3e6d9"
      },
      "source": [
        "# Create a vector\n",
        "vector = tf.constant([10, 10])\n",
        "vector"
      ],
      "execution_count": 6,
      "outputs": [
        {
          "output_type": "execute_result",
          "data": {
            "text/plain": [
              "<tf.Tensor: shape=(2,), dtype=int32, numpy=array([10, 10], dtype=int32)>"
            ]
          },
          "metadata": {
            "tags": []
          },
          "execution_count": 6
        }
      ]
    },
    {
      "cell_type": "code",
      "metadata": {
        "colab": {
          "base_uri": "https://localhost:8080/"
        },
        "id": "P-4JRvr3SE35",
        "outputId": "f18bad94-41ac-42db-c142-c04abd297938"
      },
      "source": [
        "# Check the dimension of the vector\n",
        "vector.ndim"
      ],
      "execution_count": 7,
      "outputs": [
        {
          "output_type": "execute_result",
          "data": {
            "text/plain": [
              "1"
            ]
          },
          "metadata": {
            "tags": []
          },
          "execution_count": 7
        }
      ]
    },
    {
      "cell_type": "code",
      "metadata": {
        "colab": {
          "base_uri": "https://localhost:8080/"
        },
        "id": "15twKOt0SRK2",
        "outputId": "3c160beb-cf2c-4dd7-b458-e9e0bf8c423b"
      },
      "source": [
        "# Create a matrix (more than 1 dimension)\n",
        "matrix = tf.constant([[10, 7],\n",
        "                      [7,10]])\n",
        "matrix"
      ],
      "execution_count": 8,
      "outputs": [
        {
          "output_type": "execute_result",
          "data": {
            "text/plain": [
              "<tf.Tensor: shape=(2, 2), dtype=int32, numpy=\n",
              "array([[10,  7],\n",
              "       [ 7, 10]], dtype=int32)>"
            ]
          },
          "metadata": {
            "tags": []
          },
          "execution_count": 8
        }
      ]
    },
    {
      "cell_type": "code",
      "metadata": {
        "colab": {
          "base_uri": "https://localhost:8080/"
        },
        "id": "iAH-I8r2Scd_",
        "outputId": "92b65204-8556-4b05-bc94-1cb60575babc"
      },
      "source": [
        "matrix.ndim"
      ],
      "execution_count": 9,
      "outputs": [
        {
          "output_type": "execute_result",
          "data": {
            "text/plain": [
              "2"
            ]
          },
          "metadata": {
            "tags": []
          },
          "execution_count": 9
        }
      ]
    },
    {
      "cell_type": "code",
      "metadata": {
        "colab": {
          "base_uri": "https://localhost:8080/"
        },
        "id": "mCGrrh7uShrO",
        "outputId": "ce5ec4b0-3c57-4509-c840-3715ce3d6ec2"
      },
      "source": [
        "# Create another matrix\n",
        "another_matrix = tf.constant([[10.,7.],\n",
        "                              [3.,2.],\n",
        "                              [8.,9.]],\n",
        "                             dtype=tf.float16)\n",
        "another_matrix"
      ],
      "execution_count": 10,
      "outputs": [
        {
          "output_type": "execute_result",
          "data": {
            "text/plain": [
              "<tf.Tensor: shape=(3, 2), dtype=float16, numpy=\n",
              "array([[10.,  7.],\n",
              "       [ 3.,  2.],\n",
              "       [ 8.,  9.]], dtype=float16)>"
            ]
          },
          "metadata": {
            "tags": []
          },
          "execution_count": 10
        }
      ]
    },
    {
      "cell_type": "code",
      "metadata": {
        "colab": {
          "base_uri": "https://localhost:8080/"
        },
        "id": "DhkttGG9TBwm",
        "outputId": "e49eb2f0-753f-40ec-867d-075930e7ddd0"
      },
      "source": [
        "# What is the ndim of this?\n",
        "another_matrix.ndim"
      ],
      "execution_count": 11,
      "outputs": [
        {
          "output_type": "execute_result",
          "data": {
            "text/plain": [
              "2"
            ]
          },
          "metadata": {
            "tags": []
          },
          "execution_count": 11
        }
      ]
    },
    {
      "cell_type": "code",
      "metadata": {
        "id": "4hS69OWSTSwh"
      },
      "source": [
        "# The total number of dimensions is the number of elements in the shape.."
      ],
      "execution_count": 12,
      "outputs": []
    },
    {
      "cell_type": "code",
      "metadata": {
        "colab": {
          "base_uri": "https://localhost:8080/"
        },
        "id": "vMNbOn_VTaXJ",
        "outputId": "5424076f-8ed4-4d22-9fa2-801b92f18a3e"
      },
      "source": [
        "# Let's create a tensor\n",
        "tensor = tf.constant([[[1, 2, 3],\n",
        "                       [4, 5, 6]],\n",
        "                       [[7, 8, 9],\n",
        "                        [10, 11, 12]],\n",
        "                       [[13, 14, 15],\n",
        "                        [16, 17, 18]]])\n",
        "tensor"
      ],
      "execution_count": 13,
      "outputs": [
        {
          "output_type": "execute_result",
          "data": {
            "text/plain": [
              "<tf.Tensor: shape=(3, 2, 3), dtype=int32, numpy=\n",
              "array([[[ 1,  2,  3],\n",
              "        [ 4,  5,  6]],\n",
              "\n",
              "       [[ 7,  8,  9],\n",
              "        [10, 11, 12]],\n",
              "\n",
              "       [[13, 14, 15],\n",
              "        [16, 17, 18]]], dtype=int32)>"
            ]
          },
          "metadata": {
            "tags": []
          },
          "execution_count": 13
        }
      ]
    },
    {
      "cell_type": "code",
      "metadata": {
        "colab": {
          "base_uri": "https://localhost:8080/"
        },
        "id": "59SC5QBZUGD_",
        "outputId": "d986fc61-ec62-4e6d-8f1f-fed4e9143230"
      },
      "source": [
        "tensor.ndim"
      ],
      "execution_count": 14,
      "outputs": [
        {
          "output_type": "execute_result",
          "data": {
            "text/plain": [
              "3"
            ]
          },
          "metadata": {
            "tags": []
          },
          "execution_count": 14
        }
      ]
    },
    {
      "cell_type": "markdown",
      "metadata": {
        "id": "EX1BJqrtUZvw"
      },
      "source": [
        "What we've created so far:\n",
        "\n",
        "* Scalar: a single number\n",
        "* Vector: a number with direction (e.g. wind speed and direction)\n",
        "* Matrix: a 2-dimensional array of numbers\n",
        "* Tensor: an n-dimensional array of numbers (where n can be any number, a 0-dim is a scalar, a 1-dim is a vector)"
      ]
    },
    {
      "cell_type": "markdown",
      "metadata": {
        "id": "4Zvsk4QgU-rz"
      },
      "source": [
        "### Creating tensors with `tf.Variable`\n"
      ]
    },
    {
      "cell_type": "code",
      "metadata": {
        "colab": {
          "base_uri": "https://localhost:8080/"
        },
        "id": "LnwGpc5misI3",
        "outputId": "8da07e57-b3b5-4be8-84bf-94b075b5040c"
      },
      "source": [
        "# Create the same tensor with tf.Variable() as above\n",
        "changeable_tensor = tf.Variable([10, 7])\n",
        "unchangeable_tensor = tf.constant([10, 7])\n",
        "changeable_tensor, unchangeable_tensor"
      ],
      "execution_count": 15,
      "outputs": [
        {
          "output_type": "execute_result",
          "data": {
            "text/plain": [
              "(<tf.Variable 'Variable:0' shape=(2,) dtype=int32, numpy=array([10,  7], dtype=int32)>,\n",
              " <tf.Tensor: shape=(2,), dtype=int32, numpy=array([10,  7], dtype=int32)>)"
            ]
          },
          "metadata": {
            "tags": []
          },
          "execution_count": 15
        }
      ]
    },
    {
      "cell_type": "code",
      "metadata": {
        "id": "PraybtUIi6a3"
      },
      "source": [
        "# Let's try to change one of the elements in the changeable tensor\n",
        "# changeable_tensor[0] = 7"
      ],
      "execution_count": 16,
      "outputs": []
    },
    {
      "cell_type": "code",
      "metadata": {
        "colab": {
          "base_uri": "https://localhost:8080/"
        },
        "id": "TnsTD5nDjIw9",
        "outputId": "d1e41663-a237-4161-fbb6-00dda48cfdfa"
      },
      "source": [
        "# How about try .assign()\n",
        "changeable_tensor[0].assign(7)"
      ],
      "execution_count": 17,
      "outputs": [
        {
          "output_type": "execute_result",
          "data": {
            "text/plain": [
              "<tf.Variable 'UnreadVariable' shape=(2,) dtype=int32, numpy=array([7, 7], dtype=int32)>"
            ]
          },
          "metadata": {
            "tags": []
          },
          "execution_count": 17
        }
      ]
    },
    {
      "cell_type": "code",
      "metadata": {
        "colab": {
          "base_uri": "https://localhost:8080/"
        },
        "id": "5T4b-7azjXEJ",
        "outputId": "087458f6-d53a-49e8-bb9e-644822d20290"
      },
      "source": [
        "# Let's try the unchangeable tensor...\n",
        "# unchangeable_tensor[0].assign(7)\n",
        "unchangeable_tensor"
      ],
      "execution_count": 18,
      "outputs": [
        {
          "output_type": "execute_result",
          "data": {
            "text/plain": [
              "<tf.Tensor: shape=(2,), dtype=int32, numpy=array([10,  7], dtype=int32)>"
            ]
          },
          "metadata": {
            "tags": []
          },
          "execution_count": 18
        }
      ]
    },
    {
      "cell_type": "markdown",
      "metadata": {
        "id": "le85mwJekHoX"
      },
      "source": [
        "Note: Rarely in practice will you need to decide whether to use `tf.constant` or `tf.Variable` to create tensors, as TensorFlow does this for you. However, if in doubt, use `tf.constant` and change it later if needed."
      ]
    },
    {
      "cell_type": "markdown",
      "metadata": {
        "id": "YbU-KTiCjfYQ"
      },
      "source": [
        "### Creating random tensors\n",
        "\n",
        "Random tensors are tensors of some arbitrary size containing random numbers."
      ]
    },
    {
      "cell_type": "code",
      "metadata": {
        "colab": {
          "base_uri": "https://localhost:8080/"
        },
        "id": "PLX6Wy3ZkCoT",
        "outputId": "e45c147e-ffe7-42a5-aa5d-1a1bd5572437"
      },
      "source": [
        "# Create two random (but the same) tensors\n",
        "random_1 = tf.random.Generator.from_seed(42) # set seed for reproducibility\n",
        "random_1 = random_1.normal(shape=(3,2))\n",
        "random_2 = tf.random.Generator.from_seed(42)\n",
        "random_2 = random_2.normal(shape=(3,2))\n",
        "random_1\n",
        "random_2\n",
        "\n",
        "# Are the equal?\n",
        "random_1, random_2, random_1 == random_2"
      ],
      "execution_count": 19,
      "outputs": [
        {
          "output_type": "execute_result",
          "data": {
            "text/plain": [
              "(<tf.Tensor: shape=(3, 2), dtype=float32, numpy=\n",
              " array([[-0.7565803 , -0.06854702],\n",
              "        [ 0.07595026, -1.2573844 ],\n",
              "        [-0.23193765, -1.8107855 ]], dtype=float32)>,\n",
              " <tf.Tensor: shape=(3, 2), dtype=float32, numpy=\n",
              " array([[-0.7565803 , -0.06854702],\n",
              "        [ 0.07595026, -1.2573844 ],\n",
              "        [-0.23193765, -1.8107855 ]], dtype=float32)>,\n",
              " <tf.Tensor: shape=(3, 2), dtype=bool, numpy=\n",
              " array([[ True,  True],\n",
              "        [ True,  True],\n",
              "        [ True,  True]])>)"
            ]
          },
          "metadata": {
            "tags": []
          },
          "execution_count": 19
        }
      ]
    },
    {
      "cell_type": "markdown",
      "metadata": {
        "id": "ttQnpthtljJn"
      },
      "source": [
        "### Shuffle the order of elements in a tensor\n"
      ]
    },
    {
      "cell_type": "code",
      "metadata": {
        "colab": {
          "base_uri": "https://localhost:8080/"
        },
        "id": "Sqy0tt2ysr01",
        "outputId": "2272aa32-520a-4aab-b2ab-47199959704c"
      },
      "source": [
        "# Shuffle a tensor (valuable for when you want to shuffle data so the inherent order does not effect learning)\n",
        "not_shuffled = tf.constant([[10, 7],\n",
        "                            [3, 4],\n",
        "                            [2,5]])\n",
        "not_shuffled.ndim"
      ],
      "execution_count": 20,
      "outputs": [
        {
          "output_type": "execute_result",
          "data": {
            "text/plain": [
              "2"
            ]
          },
          "metadata": {
            "tags": []
          },
          "execution_count": 20
        }
      ]
    },
    {
      "cell_type": "code",
      "metadata": {
        "colab": {
          "base_uri": "https://localhost:8080/"
        },
        "id": "QCCHWeNmtRBS",
        "outputId": "cc6008db-39fa-4e59-e887-e8fd6dcbdf9d"
      },
      "source": [
        "not_shuffled"
      ],
      "execution_count": 21,
      "outputs": [
        {
          "output_type": "execute_result",
          "data": {
            "text/plain": [
              "<tf.Tensor: shape=(3, 2), dtype=int32, numpy=\n",
              "array([[10,  7],\n",
              "       [ 3,  4],\n",
              "       [ 2,  5]], dtype=int32)>"
            ]
          },
          "metadata": {
            "tags": []
          },
          "execution_count": 21
        }
      ]
    },
    {
      "cell_type": "code",
      "metadata": {
        "colab": {
          "base_uri": "https://localhost:8080/"
        },
        "id": "UO3SML72tUIK",
        "outputId": "5f7b307f-78f8-4e38-f8ab-7f838d0bc532"
      },
      "source": [
        "# Shuffle the non shuffled tensor\n",
        "tf.random.shuffle(not_shuffled)"
      ],
      "execution_count": 22,
      "outputs": [
        {
          "output_type": "execute_result",
          "data": {
            "text/plain": [
              "<tf.Tensor: shape=(3, 2), dtype=int32, numpy=\n",
              "array([[10,  7],\n",
              "       [ 2,  5],\n",
              "       [ 3,  4]], dtype=int32)>"
            ]
          },
          "metadata": {
            "tags": []
          },
          "execution_count": 22
        }
      ]
    },
    {
      "cell_type": "code",
      "metadata": {
        "colab": {
          "base_uri": "https://localhost:8080/"
        },
        "id": "m_hnix-Ktph8",
        "outputId": "b20f0794-ff41-4d98-927a-c7c4e341c4e2"
      },
      "source": [
        "tf.random.set_seed(42)\n",
        "tf.random.shuffle(not_shuffled, seed=42)"
      ],
      "execution_count": 23,
      "outputs": [
        {
          "output_type": "execute_result",
          "data": {
            "text/plain": [
              "<tf.Tensor: shape=(3, 2), dtype=int32, numpy=\n",
              "array([[10,  7],\n",
              "       [ 3,  4],\n",
              "       [ 2,  5]], dtype=int32)>"
            ]
          },
          "metadata": {
            "tags": []
          },
          "execution_count": 23
        }
      ]
    },
    {
      "cell_type": "markdown",
      "metadata": {
        "id": "l84ykeGjt-ja"
      },
      "source": [
        "**Exercise:** Read through TensorFlow documentation on random seed generation\n",
        "\n",
        "It looks like if we want our shuffled tensors to be in the same order, we use the global level as well as the operation level random seed."
      ]
    },
    {
      "cell_type": "code",
      "metadata": {
        "colab": {
          "base_uri": "https://localhost:8080/"
        },
        "id": "TSjf8w3Vusw2",
        "outputId": "0c2629ee-823e-4d57-f46f-e391c6014964"
      },
      "source": [
        "tf.random.shuffle(not_shuffled, seed=42)"
      ],
      "execution_count": 24,
      "outputs": [
        {
          "output_type": "execute_result",
          "data": {
            "text/plain": [
              "<tf.Tensor: shape=(3, 2), dtype=int32, numpy=\n",
              "array([[ 2,  5],\n",
              "       [10,  7],\n",
              "       [ 3,  4]], dtype=int32)>"
            ]
          },
          "metadata": {
            "tags": []
          },
          "execution_count": 24
        }
      ]
    },
    {
      "cell_type": "markdown",
      "metadata": {
        "id": "M3JM2Yxf6iW6"
      },
      "source": [
        "### Other ways to make tensors"
      ]
    },
    {
      "cell_type": "code",
      "metadata": {
        "colab": {
          "base_uri": "https://localhost:8080/"
        },
        "id": "7uIJkSeX7Hpm",
        "outputId": "75d361c1-4ff4-4808-ba2d-54b08f4fc5b4"
      },
      "source": [
        "tf.ones([10,7])"
      ],
      "execution_count": 25,
      "outputs": [
        {
          "output_type": "execute_result",
          "data": {
            "text/plain": [
              "<tf.Tensor: shape=(10, 7), dtype=float32, numpy=\n",
              "array([[1., 1., 1., 1., 1., 1., 1.],\n",
              "       [1., 1., 1., 1., 1., 1., 1.],\n",
              "       [1., 1., 1., 1., 1., 1., 1.],\n",
              "       [1., 1., 1., 1., 1., 1., 1.],\n",
              "       [1., 1., 1., 1., 1., 1., 1.],\n",
              "       [1., 1., 1., 1., 1., 1., 1.],\n",
              "       [1., 1., 1., 1., 1., 1., 1.],\n",
              "       [1., 1., 1., 1., 1., 1., 1.],\n",
              "       [1., 1., 1., 1., 1., 1., 1.],\n",
              "       [1., 1., 1., 1., 1., 1., 1.]], dtype=float32)>"
            ]
          },
          "metadata": {
            "tags": []
          },
          "execution_count": 25
        }
      ]
    },
    {
      "cell_type": "code",
      "metadata": {
        "colab": {
          "base_uri": "https://localhost:8080/"
        },
        "id": "VefFPxjs7Qkc",
        "outputId": "8df0f6ff-b894-4b2b-9ffc-2c00b69ce9c5"
      },
      "source": [
        "# Create a tensor of all zeroes\n",
        "tf.zeros([10,7])"
      ],
      "execution_count": 26,
      "outputs": [
        {
          "output_type": "execute_result",
          "data": {
            "text/plain": [
              "<tf.Tensor: shape=(10, 7), dtype=float32, numpy=\n",
              "array([[0., 0., 0., 0., 0., 0., 0.],\n",
              "       [0., 0., 0., 0., 0., 0., 0.],\n",
              "       [0., 0., 0., 0., 0., 0., 0.],\n",
              "       [0., 0., 0., 0., 0., 0., 0.],\n",
              "       [0., 0., 0., 0., 0., 0., 0.],\n",
              "       [0., 0., 0., 0., 0., 0., 0.],\n",
              "       [0., 0., 0., 0., 0., 0., 0.],\n",
              "       [0., 0., 0., 0., 0., 0., 0.],\n",
              "       [0., 0., 0., 0., 0., 0., 0.],\n",
              "       [0., 0., 0., 0., 0., 0., 0.]], dtype=float32)>"
            ]
          },
          "metadata": {
            "tags": []
          },
          "execution_count": 26
        }
      ]
    },
    {
      "cell_type": "markdown",
      "metadata": {
        "id": "djboq4o77WTE"
      },
      "source": [
        "### Turn NumPy arrays into tensors\n",
        "\n",
        "The main difference between NumPy arrays and TensorFlow tensors is that tensors can be run on GPUs."
      ]
    },
    {
      "cell_type": "code",
      "metadata": {
        "colab": {
          "base_uri": "https://localhost:8080/"
        },
        "id": "lfPTrasI7sdL",
        "outputId": "2d0cb119-1bf3-4de9-ee31-7b4b9382da3b"
      },
      "source": [
        "import numpy as np\n",
        "numpy_A = np.arange(1, 25, dtype=np.int32)\n",
        "B = tf.constant(numpy_A)\n",
        "numpy_A"
      ],
      "execution_count": 27,
      "outputs": [
        {
          "output_type": "execute_result",
          "data": {
            "text/plain": [
              "array([ 1,  2,  3,  4,  5,  6,  7,  8,  9, 10, 11, 12, 13, 14, 15, 16, 17,\n",
              "       18, 19, 20, 21, 22, 23, 24], dtype=int32)"
            ]
          },
          "metadata": {
            "tags": []
          },
          "execution_count": 27
        }
      ]
    },
    {
      "cell_type": "code",
      "metadata": {
        "colab": {
          "base_uri": "https://localhost:8080/"
        },
        "id": "H-t8v3ZX78Kc",
        "outputId": "4911ea2c-9a06-4360-adf8-4b45412a6859"
      },
      "source": [
        "A = tf.constant(numpy_A, shape=(2,3,4)) # numpy_A has 24 elements, so the shape of the tensor needs to hold equal amount: 2*3*4 = 24\n",
        "C = tf.constant(numpy_A, shape=(3,8))   # ... 3*8 = 24\n",
        "A, B, C"
      ],
      "execution_count": 28,
      "outputs": [
        {
          "output_type": "execute_result",
          "data": {
            "text/plain": [
              "(<tf.Tensor: shape=(2, 3, 4), dtype=int32, numpy=\n",
              " array([[[ 1,  2,  3,  4],\n",
              "         [ 5,  6,  7,  8],\n",
              "         [ 9, 10, 11, 12]],\n",
              " \n",
              "        [[13, 14, 15, 16],\n",
              "         [17, 18, 19, 20],\n",
              "         [21, 22, 23, 24]]], dtype=int32)>,\n",
              " <tf.Tensor: shape=(24,), dtype=int32, numpy=\n",
              " array([ 1,  2,  3,  4,  5,  6,  7,  8,  9, 10, 11, 12, 13, 14, 15, 16, 17,\n",
              "        18, 19, 20, 21, 22, 23, 24], dtype=int32)>,\n",
              " <tf.Tensor: shape=(3, 8), dtype=int32, numpy=\n",
              " array([[ 1,  2,  3,  4,  5,  6,  7,  8],\n",
              "        [ 9, 10, 11, 12, 13, 14, 15, 16],\n",
              "        [17, 18, 19, 20, 21, 22, 23, 24]], dtype=int32)>)"
            ]
          },
          "metadata": {
            "tags": []
          },
          "execution_count": 28
        }
      ]
    },
    {
      "cell_type": "markdown",
      "metadata": {
        "id": "nobn_3_b8E5G"
      },
      "source": [
        "### Getting information from tensors\n",
        "\n",
        "When dealing with tensors - be aware of the following attributes\n",
        "* Shape\n",
        "* Rank\n",
        "* Axis or dimension\n",
        "* Size"
      ]
    },
    {
      "cell_type": "code",
      "metadata": {
        "colab": {
          "base_uri": "https://localhost:8080/"
        },
        "id": "AguPylK5_4VH",
        "outputId": "e119e7b2-0bc9-420c-fd18-e5a3a63839f8"
      },
      "source": [
        "# Create a rank 4 tensor (4 dimensions)\n",
        "rank_4_tensor = tf.zeros([2, 3, 4, 5]) # 2 large groups, each of 3, with 4 arrays of length 5\n",
        "rank_4_tensor"
      ],
      "execution_count": 29,
      "outputs": [
        {
          "output_type": "execute_result",
          "data": {
            "text/plain": [
              "<tf.Tensor: shape=(2, 3, 4, 5), dtype=float32, numpy=\n",
              "array([[[[0., 0., 0., 0., 0.],\n",
              "         [0., 0., 0., 0., 0.],\n",
              "         [0., 0., 0., 0., 0.],\n",
              "         [0., 0., 0., 0., 0.]],\n",
              "\n",
              "        [[0., 0., 0., 0., 0.],\n",
              "         [0., 0., 0., 0., 0.],\n",
              "         [0., 0., 0., 0., 0.],\n",
              "         [0., 0., 0., 0., 0.]],\n",
              "\n",
              "        [[0., 0., 0., 0., 0.],\n",
              "         [0., 0., 0., 0., 0.],\n",
              "         [0., 0., 0., 0., 0.],\n",
              "         [0., 0., 0., 0., 0.]]],\n",
              "\n",
              "\n",
              "       [[[0., 0., 0., 0., 0.],\n",
              "         [0., 0., 0., 0., 0.],\n",
              "         [0., 0., 0., 0., 0.],\n",
              "         [0., 0., 0., 0., 0.]],\n",
              "\n",
              "        [[0., 0., 0., 0., 0.],\n",
              "         [0., 0., 0., 0., 0.],\n",
              "         [0., 0., 0., 0., 0.],\n",
              "         [0., 0., 0., 0., 0.]],\n",
              "\n",
              "        [[0., 0., 0., 0., 0.],\n",
              "         [0., 0., 0., 0., 0.],\n",
              "         [0., 0., 0., 0., 0.],\n",
              "         [0., 0., 0., 0., 0.]]]], dtype=float32)>"
            ]
          },
          "metadata": {
            "tags": []
          },
          "execution_count": 29
        }
      ]
    },
    {
      "cell_type": "code",
      "metadata": {
        "colab": {
          "base_uri": "https://localhost:8080/"
        },
        "id": "D5dlGuibA_p6",
        "outputId": "d14ef587-9973-42e5-8155-23bbe89a91b0"
      },
      "source": [
        "rank_4_tensor.shape, rank_4_tensor.ndim, tf.size(rank_4_tensor)"
      ],
      "execution_count": 30,
      "outputs": [
        {
          "output_type": "execute_result",
          "data": {
            "text/plain": [
              "(TensorShape([2, 3, 4, 5]), 4, <tf.Tensor: shape=(), dtype=int32, numpy=120>)"
            ]
          },
          "metadata": {
            "tags": []
          },
          "execution_count": 30
        }
      ]
    },
    {
      "cell_type": "code",
      "metadata": {
        "colab": {
          "base_uri": "https://localhost:8080/"
        },
        "id": "mlKNXAHGBmH3",
        "outputId": "f47e8d0e-7daf-49fa-bd09-c5e8d635e120"
      },
      "source": [
        "# Get various attributes of our tensor\n",
        "print(\"Datatype of every element:\", rank_4_tensor.dtype)\n",
        "print(\"Number of dimensions (rank):\", rank_4_tensor.ndim)\n",
        "print(\"Shape of tensor:\", rank_4_tensor.shape)\n",
        "print(\"Elements along the 0 axis:\", rank_4_tensor.shape[0])\n",
        "print(\"Elements along the last axis:\", rank_4_tensor.shape[-1])\n",
        "print(\"Total number of elements in tensor:\", tf.size(rank_4_tensor).numpy())\n",
        "print(\"Total number of elements in tensor:\", tf.size(rank_4_tensor))"
      ],
      "execution_count": 31,
      "outputs": [
        {
          "output_type": "stream",
          "text": [
            "Datatype of every element: <dtype: 'float32'>\n",
            "Number of dimensions (rank): 4\n",
            "Shape of tensor: (2, 3, 4, 5)\n",
            "Elements along the 0 axis: 2\n",
            "Elements along the last axis: 5\n",
            "Total number of elements in tensor: 120\n",
            "Total number of elements in tensor: tf.Tensor(120, shape=(), dtype=int32)\n"
          ],
          "name": "stdout"
        }
      ]
    },
    {
      "cell_type": "markdown",
      "metadata": {
        "id": "HJ_lsLrUCQTh"
      },
      "source": [
        "### Indexing Tensors\n",
        "\n",
        "Tensors can be indexed just like python lists."
      ]
    },
    {
      "cell_type": "code",
      "metadata": {
        "colab": {
          "base_uri": "https://localhost:8080/"
        },
        "id": "wqau4HhwIzS-",
        "outputId": "9207ad27-71e5-47f6-f175-ff5ada2505f5"
      },
      "source": [
        "some_list = [1,2,3,4]\n",
        "some_list[:2]"
      ],
      "execution_count": 32,
      "outputs": [
        {
          "output_type": "execute_result",
          "data": {
            "text/plain": [
              "[1, 2]"
            ]
          },
          "metadata": {
            "tags": []
          },
          "execution_count": 32
        }
      ]
    },
    {
      "cell_type": "code",
      "metadata": {
        "colab": {
          "base_uri": "https://localhost:8080/"
        },
        "id": "ZnqBdnl1IjDZ",
        "outputId": "5a45c30a-43c5-4605-caa3-a979c4e001ed"
      },
      "source": [
        "# Get the first 2 elements of each dimension\n",
        "rank_4_tensor[:2, :2, :2, :2]"
      ],
      "execution_count": 33,
      "outputs": [
        {
          "output_type": "execute_result",
          "data": {
            "text/plain": [
              "<tf.Tensor: shape=(2, 2, 2, 2), dtype=float32, numpy=\n",
              "array([[[[0., 0.],\n",
              "         [0., 0.]],\n",
              "\n",
              "        [[0., 0.],\n",
              "         [0., 0.]]],\n",
              "\n",
              "\n",
              "       [[[0., 0.],\n",
              "         [0., 0.]],\n",
              "\n",
              "        [[0., 0.],\n",
              "         [0., 0.]]]], dtype=float32)>"
            ]
          },
          "metadata": {
            "tags": []
          },
          "execution_count": 33
        }
      ]
    },
    {
      "cell_type": "code",
      "metadata": {
        "colab": {
          "base_uri": "https://localhost:8080/"
        },
        "id": "tMNXuzO5I5xX",
        "outputId": "0c89ab67-0c2b-4f8b-97c2-4ec9ff03e6c7"
      },
      "source": [
        "# Get the first element from each dimension from each index except for the final one\n",
        "some_list[:1]"
      ],
      "execution_count": 34,
      "outputs": [
        {
          "output_type": "execute_result",
          "data": {
            "text/plain": [
              "[1]"
            ]
          },
          "metadata": {
            "tags": []
          },
          "execution_count": 34
        }
      ]
    },
    {
      "cell_type": "code",
      "metadata": {
        "colab": {
          "base_uri": "https://localhost:8080/"
        },
        "id": "jRU6kFqRJJvY",
        "outputId": "d851a83f-e0cc-4bfa-a129-d110efd537c9"
      },
      "source": [
        "rank_4_tensor[:1, :1, :1]"
      ],
      "execution_count": 35,
      "outputs": [
        {
          "output_type": "execute_result",
          "data": {
            "text/plain": [
              "<tf.Tensor: shape=(1, 1, 1, 5), dtype=float32, numpy=array([[[[0., 0., 0., 0., 0.]]]], dtype=float32)>"
            ]
          },
          "metadata": {
            "tags": []
          },
          "execution_count": 35
        }
      ]
    },
    {
      "cell_type": "code",
      "metadata": {
        "colab": {
          "base_uri": "https://localhost:8080/"
        },
        "id": "MLvU5NCPJM1-",
        "outputId": "b3ace128-d73c-40e5-b75f-a9180cb2cdab"
      },
      "source": [
        "# or...\n",
        "rank_4_tensor[:1,:1,:1,:]"
      ],
      "execution_count": 36,
      "outputs": [
        {
          "output_type": "execute_result",
          "data": {
            "text/plain": [
              "<tf.Tensor: shape=(1, 1, 1, 5), dtype=float32, numpy=array([[[[0., 0., 0., 0., 0.]]]], dtype=float32)>"
            ]
          },
          "metadata": {
            "tags": []
          },
          "execution_count": 36
        }
      ]
    },
    {
      "cell_type": "code",
      "metadata": {
        "colab": {
          "base_uri": "https://localhost:8080/"
        },
        "id": "X6Zqen-NJWIl",
        "outputId": "7a78d1c9-921d-46ff-bd55-6ead05d7ed87"
      },
      "source": [
        "rank_4_tensor[:1, :1, :, :1]"
      ],
      "execution_count": 37,
      "outputs": [
        {
          "output_type": "execute_result",
          "data": {
            "text/plain": [
              "<tf.Tensor: shape=(1, 1, 4, 1), dtype=float32, numpy=\n",
              "array([[[[0.],\n",
              "         [0.],\n",
              "         [0.],\n",
              "         [0.]]]], dtype=float32)>"
            ]
          },
          "metadata": {
            "tags": []
          },
          "execution_count": 37
        }
      ]
    },
    {
      "cell_type": "code",
      "metadata": {
        "colab": {
          "base_uri": "https://localhost:8080/"
        },
        "id": "AVZ_5FARJcVG",
        "outputId": "ad97c0c5-4300-439c-fe8d-57500c8e4b71"
      },
      "source": [
        "# Create a rank 2 tensor\n",
        "rank_2_tensor = tf.constant([[10, 7],\n",
        "                             [3,4]])\n",
        "rank_2_tensor.shape, rank_2_tensor.ndim"
      ],
      "execution_count": 38,
      "outputs": [
        {
          "output_type": "execute_result",
          "data": {
            "text/plain": [
              "(TensorShape([2, 2]), 2)"
            ]
          },
          "metadata": {
            "tags": []
          },
          "execution_count": 38
        }
      ]
    },
    {
      "cell_type": "code",
      "metadata": {
        "colab": {
          "base_uri": "https://localhost:8080/"
        },
        "id": "rWg6lOkmJtLk",
        "outputId": "a2a48dfe-3822-48f3-df8b-2ec3b754902b"
      },
      "source": [
        "# Get the last item of each rank 2 tensor\n",
        "rank_2_tensor[:,-1]"
      ],
      "execution_count": 39,
      "outputs": [
        {
          "output_type": "execute_result",
          "data": {
            "text/plain": [
              "<tf.Tensor: shape=(2,), dtype=int32, numpy=array([7, 4], dtype=int32)>"
            ]
          },
          "metadata": {
            "tags": []
          },
          "execution_count": 39
        }
      ]
    },
    {
      "cell_type": "code",
      "metadata": {
        "colab": {
          "base_uri": "https://localhost:8080/"
        },
        "id": "stC3oECiJ_R2",
        "outputId": "3b207421-efe9-4974-f138-6668999f2da6"
      },
      "source": [
        "# Add in extra dimension to rank 2 tensor\n",
        "rank_3_tensor = rank_2_tensor[..., tf.newaxis]\n",
        "rank_3_tensor"
      ],
      "execution_count": 40,
      "outputs": [
        {
          "output_type": "execute_result",
          "data": {
            "text/plain": [
              "<tf.Tensor: shape=(2, 2, 1), dtype=int32, numpy=\n",
              "array([[[10],\n",
              "        [ 7]],\n",
              "\n",
              "       [[ 3],\n",
              "        [ 4]]], dtype=int32)>"
            ]
          },
          "metadata": {
            "tags": []
          },
          "execution_count": 40
        }
      ]
    },
    {
      "cell_type": "code",
      "metadata": {
        "colab": {
          "base_uri": "https://localhost:8080/"
        },
        "id": "epYdk3NMKSHQ",
        "outputId": "3171f214-a009-48d6-e456-3e3cb9f60646"
      },
      "source": [
        "# Alternative to tf.newaxis\n",
        "tf.expand_dims(rank_2_tensor, axis=-1) # -1 means expand final axis"
      ],
      "execution_count": 41,
      "outputs": [
        {
          "output_type": "execute_result",
          "data": {
            "text/plain": [
              "<tf.Tensor: shape=(2, 2, 1), dtype=int32, numpy=\n",
              "array([[[10],\n",
              "        [ 7]],\n",
              "\n",
              "       [[ 3],\n",
              "        [ 4]]], dtype=int32)>"
            ]
          },
          "metadata": {
            "tags": []
          },
          "execution_count": 41
        }
      ]
    },
    {
      "cell_type": "code",
      "metadata": {
        "colab": {
          "base_uri": "https://localhost:8080/"
        },
        "id": "WeJjX0LBKwUv",
        "outputId": "21a097e1-47ce-490b-b59b-050844fd0139"
      },
      "source": [
        "tf.expand_dims(rank_2_tensor, axis=0) # put extra on the front"
      ],
      "execution_count": 42,
      "outputs": [
        {
          "output_type": "execute_result",
          "data": {
            "text/plain": [
              "<tf.Tensor: shape=(1, 2, 2), dtype=int32, numpy=\n",
              "array([[[10,  7],\n",
              "        [ 3,  4]]], dtype=int32)>"
            ]
          },
          "metadata": {
            "tags": []
          },
          "execution_count": 42
        }
      ]
    },
    {
      "cell_type": "code",
      "metadata": {
        "colab": {
          "base_uri": "https://localhost:8080/"
        },
        "id": "wVBfkszxK9qy",
        "outputId": "a0143460-6216-420d-e7c3-bd54e400d70f"
      },
      "source": [
        "rank_2_tensor\n"
      ],
      "execution_count": 43,
      "outputs": [
        {
          "output_type": "execute_result",
          "data": {
            "text/plain": [
              "<tf.Tensor: shape=(2, 2), dtype=int32, numpy=\n",
              "array([[10,  7],\n",
              "       [ 3,  4]], dtype=int32)>"
            ]
          },
          "metadata": {
            "tags": []
          },
          "execution_count": 43
        }
      ]
    },
    {
      "cell_type": "markdown",
      "metadata": {
        "id": "4NNH1w7ILHfb"
      },
      "source": [
        "### Manipulating tensors (tensor operations)\n",
        "\n",
        "**Basic operations**\n",
        "`+`, `-`, `*`, `/`"
      ]
    },
    {
      "cell_type": "code",
      "metadata": {
        "colab": {
          "base_uri": "https://localhost:8080/"
        },
        "id": "A1-t9QSQLRGQ",
        "outputId": "314eac27-5653-4f11-abdf-e84045b9b4c7"
      },
      "source": [
        "# You can add values to a tensor using the addition operator\n",
        "tensor = tf.constant([[10, 7], [3,4]])\n",
        "tensor + 10"
      ],
      "execution_count": 44,
      "outputs": [
        {
          "output_type": "execute_result",
          "data": {
            "text/plain": [
              "<tf.Tensor: shape=(2, 2), dtype=int32, numpy=\n",
              "array([[20, 17],\n",
              "       [13, 14]], dtype=int32)>"
            ]
          },
          "metadata": {
            "tags": []
          },
          "execution_count": 44
        }
      ]
    },
    {
      "cell_type": "code",
      "metadata": {
        "colab": {
          "base_uri": "https://localhost:8080/"
        },
        "id": "7W_rE4N8PsSH",
        "outputId": "fe3ffc9a-f2f8-4cb0-a30c-49294e01c53b"
      },
      "source": [
        "# Original tensor is unchanged\n",
        "tensor"
      ],
      "execution_count": 45,
      "outputs": [
        {
          "output_type": "execute_result",
          "data": {
            "text/plain": [
              "<tf.Tensor: shape=(2, 2), dtype=int32, numpy=\n",
              "array([[10,  7],\n",
              "       [ 3,  4]], dtype=int32)>"
            ]
          },
          "metadata": {
            "tags": []
          },
          "execution_count": 45
        }
      ]
    },
    {
      "cell_type": "code",
      "metadata": {
        "colab": {
          "base_uri": "https://localhost:8080/"
        },
        "id": "iBIYM97EPyK_",
        "outputId": "6d8f52f0-8a47-4a32-ff1c-b437b16f3b38"
      },
      "source": [
        "# Multiplication\n",
        "tensor * 10"
      ],
      "execution_count": 46,
      "outputs": [
        {
          "output_type": "execute_result",
          "data": {
            "text/plain": [
              "<tf.Tensor: shape=(2, 2), dtype=int32, numpy=\n",
              "array([[100,  70],\n",
              "       [ 30,  40]], dtype=int32)>"
            ]
          },
          "metadata": {
            "tags": []
          },
          "execution_count": 46
        }
      ]
    },
    {
      "cell_type": "code",
      "metadata": {
        "colab": {
          "base_uri": "https://localhost:8080/"
        },
        "id": "Z1BLPQuUP_GK",
        "outputId": "59a826fd-2cd8-44b4-bed4-6c2171ec65cb"
      },
      "source": [
        "# Subtraction\n",
        "tensor - 10"
      ],
      "execution_count": 47,
      "outputs": [
        {
          "output_type": "execute_result",
          "data": {
            "text/plain": [
              "<tf.Tensor: shape=(2, 2), dtype=int32, numpy=\n",
              "array([[ 0, -3],\n",
              "       [-7, -6]], dtype=int32)>"
            ]
          },
          "metadata": {
            "tags": []
          },
          "execution_count": 47
        }
      ]
    },
    {
      "cell_type": "code",
      "metadata": {
        "colab": {
          "base_uri": "https://localhost:8080/"
        },
        "id": "Mc5cvBMBQCKy",
        "outputId": "e018a232-80d5-4275-acdb-58067faaad2c"
      },
      "source": [
        "# We can use the tensorflow built-in function too - the tensorflow versions are sped up/optimal\n",
        "tf.multiply(tensor, 10)"
      ],
      "execution_count": 48,
      "outputs": [
        {
          "output_type": "execute_result",
          "data": {
            "text/plain": [
              "<tf.Tensor: shape=(2, 2), dtype=int32, numpy=\n",
              "array([[100,  70],\n",
              "       [ 30,  40]], dtype=int32)>"
            ]
          },
          "metadata": {
            "tags": []
          },
          "execution_count": 48
        }
      ]
    },
    {
      "cell_type": "code",
      "metadata": {
        "colab": {
          "base_uri": "https://localhost:8080/"
        },
        "id": "iysJuyJuQNp5",
        "outputId": "f4c60f8f-f55b-47a2-8b84-1f5751c6558f"
      },
      "source": [
        "# The orinal tensor remains unchanged:\n",
        "tensor"
      ],
      "execution_count": 49,
      "outputs": [
        {
          "output_type": "execute_result",
          "data": {
            "text/plain": [
              "<tf.Tensor: shape=(2, 2), dtype=int32, numpy=\n",
              "array([[10,  7],\n",
              "       [ 3,  4]], dtype=int32)>"
            ]
          },
          "metadata": {
            "tags": []
          },
          "execution_count": 49
        }
      ]
    },
    {
      "cell_type": "markdown",
      "metadata": {
        "id": "UZiPgDmPQlRJ"
      },
      "source": [
        "**Matrix multiplication**\n",
        "\n",
        "In machine learning, matrix multiplication is one of the most common operations\n",
        "\n",
        "There are two rules that tensors (or matrices) need to fullfil:\n",
        "1. The inner dimensions must match\n",
        "2. The resulting matrix has the shape of the outer dimensions"
      ]
    },
    {
      "cell_type": "code",
      "metadata": {
        "colab": {
          "base_uri": "https://localhost:8080/"
        },
        "id": "Hnendp_9Qq0Z",
        "outputId": "e8545f6f-2057-4df3-f39e-81ee10252c3a"
      },
      "source": [
        "# Matrix multiplication in tensorflow (dot product)\n",
        "tf.matmul(tensor, tensor)"
      ],
      "execution_count": 50,
      "outputs": [
        {
          "output_type": "execute_result",
          "data": {
            "text/plain": [
              "<tf.Tensor: shape=(2, 2), dtype=int32, numpy=\n",
              "array([[121,  98],\n",
              "       [ 42,  37]], dtype=int32)>"
            ]
          },
          "metadata": {
            "tags": []
          },
          "execution_count": 50
        }
      ]
    },
    {
      "cell_type": "code",
      "metadata": {
        "colab": {
          "base_uri": "https://localhost:8080/"
        },
        "id": "_W1tDM9CTlts",
        "outputId": "019584bd-f2cc-4099-b0d2-0f357a0eb3bb"
      },
      "source": [
        "tA = tf.constant([[1, 2, 5],\n",
        "                  [7, 2, 1],\n",
        "                  [3, 3, 3]])\n",
        "tB = tf.constant([[3, 5],\n",
        "                  [6, 7],\n",
        "                  [1, 8]])\n",
        "tf.matmul(tA, tB)"
      ],
      "execution_count": 51,
      "outputs": [
        {
          "output_type": "execute_result",
          "data": {
            "text/plain": [
              "<tf.Tensor: shape=(3, 2), dtype=int32, numpy=\n",
              "array([[20, 59],\n",
              "       [34, 57],\n",
              "       [30, 60]], dtype=int32)>"
            ]
          },
          "metadata": {
            "tags": []
          },
          "execution_count": 51
        }
      ]
    },
    {
      "cell_type": "code",
      "metadata": {
        "colab": {
          "base_uri": "https://localhost:8080/"
        },
        "id": "OpDnCrFMTLDk",
        "outputId": "41118dcd-5306-4495-d7ab-5c16c43b8e93"
      },
      "source": [
        "# Matrix multiplication with Python operator \"@\"\n",
        "tensor @ tensor"
      ],
      "execution_count": 52,
      "outputs": [
        {
          "output_type": "execute_result",
          "data": {
            "text/plain": [
              "<tf.Tensor: shape=(2, 2), dtype=int32, numpy=\n",
              "array([[121,  98],\n",
              "       [ 42,  37]], dtype=int32)>"
            ]
          },
          "metadata": {
            "tags": []
          },
          "execution_count": 52
        }
      ]
    },
    {
      "cell_type": "code",
      "metadata": {
        "colab": {
          "base_uri": "https://localhost:8080/"
        },
        "id": "EW0R2XopVWsl",
        "outputId": "274c518d-4ba7-4d77-86fa-7d6112afc612"
      },
      "source": [
        "# Create a tensor of 3, 2\n",
        "X = tf.constant([[1, 2],\n",
        "                 [3, 4],\n",
        "                 [5, 6]])\n",
        "# and another\n",
        "Y = tf.constant([[7, 8],\n",
        "                 [9, 10],\n",
        "                 [11, 12]])\n",
        "X, Y"
      ],
      "execution_count": 53,
      "outputs": [
        {
          "output_type": "execute_result",
          "data": {
            "text/plain": [
              "(<tf.Tensor: shape=(3, 2), dtype=int32, numpy=\n",
              " array([[1, 2],\n",
              "        [3, 4],\n",
              "        [5, 6]], dtype=int32)>, <tf.Tensor: shape=(3, 2), dtype=int32, numpy=\n",
              " array([[ 7,  8],\n",
              "        [ 9, 10],\n",
              "        [11, 12]], dtype=int32)>)"
            ]
          },
          "metadata": {
            "tags": []
          },
          "execution_count": 53
        }
      ]
    },
    {
      "cell_type": "code",
      "metadata": {
        "id": "l-bipefeVxVC"
      },
      "source": [
        "# Try to matrix multiply tensors of same shape\n",
        "# X @ Y"
      ],
      "execution_count": 54,
      "outputs": []
    },
    {
      "cell_type": "code",
      "metadata": {
        "id": "E7Qt0kIZV6e1"
      },
      "source": [
        "# tf.matmul(X,Y)"
      ],
      "execution_count": 55,
      "outputs": []
    },
    {
      "cell_type": "code",
      "metadata": {
        "colab": {
          "base_uri": "https://localhost:8080/"
        },
        "id": "tCGFfnggV-DI",
        "outputId": "95907dfa-4fa9-452f-b930-dee899c1f095"
      },
      "source": [
        "# Let's change the shape of Y\n",
        "tf.reshape(Y, shape=(2,3))"
      ],
      "execution_count": 56,
      "outputs": [
        {
          "output_type": "execute_result",
          "data": {
            "text/plain": [
              "<tf.Tensor: shape=(2, 3), dtype=int32, numpy=\n",
              "array([[ 7,  8,  9],\n",
              "       [10, 11, 12]], dtype=int32)>"
            ]
          },
          "metadata": {
            "tags": []
          },
          "execution_count": 56
        }
      ]
    },
    {
      "cell_type": "code",
      "metadata": {
        "colab": {
          "base_uri": "https://localhost:8080/"
        },
        "id": "ETfBdt5xPAfv",
        "outputId": "987c5528-df42-4025-fb36-d2fb2c31a998"
      },
      "source": [
        "# Try to multiply X by reshaped Y\n",
        "X @ tf.reshape(Y, shape=(2,3))"
      ],
      "execution_count": 57,
      "outputs": [
        {
          "output_type": "execute_result",
          "data": {
            "text/plain": [
              "<tf.Tensor: shape=(3, 3), dtype=int32, numpy=\n",
              "array([[ 27,  30,  33],\n",
              "       [ 61,  68,  75],\n",
              "       [ 95, 106, 117]], dtype=int32)>"
            ]
          },
          "metadata": {
            "tags": []
          },
          "execution_count": 57
        }
      ]
    },
    {
      "cell_type": "code",
      "metadata": {
        "colab": {
          "base_uri": "https://localhost:8080/"
        },
        "id": "BicQS_k-QYjv",
        "outputId": "c5882641-87ad-4196-b04f-a3d154be79ea"
      },
      "source": [
        "# With tf.matmul...\n",
        "tf.matmul(X, tf.reshape(Y, shape=(2,3)))"
      ],
      "execution_count": 58,
      "outputs": [
        {
          "output_type": "execute_result",
          "data": {
            "text/plain": [
              "<tf.Tensor: shape=(3, 3), dtype=int32, numpy=\n",
              "array([[ 27,  30,  33],\n",
              "       [ 61,  68,  75],\n",
              "       [ 95, 106, 117]], dtype=int32)>"
            ]
          },
          "metadata": {
            "tags": []
          },
          "execution_count": 58
        }
      ]
    },
    {
      "cell_type": "code",
      "metadata": {
        "colab": {
          "base_uri": "https://localhost:8080/"
        },
        "id": "RlXLCfr_Q4sa",
        "outputId": "21bb8d98-780d-4c72-c3fc-b37dfecc91d2"
      },
      "source": [
        "# ...changing the shape of X instead\n",
        "tf.matmul(tf.reshape(X, shape=(2,3)), Y)"
      ],
      "execution_count": 59,
      "outputs": [
        {
          "output_type": "execute_result",
          "data": {
            "text/plain": [
              "<tf.Tensor: shape=(2, 2), dtype=int32, numpy=\n",
              "array([[ 58,  64],\n",
              "       [139, 154]], dtype=int32)>"
            ]
          },
          "metadata": {
            "tags": []
          },
          "execution_count": 59
        }
      ]
    },
    {
      "cell_type": "code",
      "metadata": {
        "colab": {
          "base_uri": "https://localhost:8080/"
        },
        "id": "XK62n5jvRF_S",
        "outputId": "5d3f2d3a-bdb0-4596-a7c3-72306f918bd5"
      },
      "source": [
        "# Can do the same with transpose, sort of\n",
        "tf.transpose(X), tf.reshape(X, shape=(2,3)), X"
      ],
      "execution_count": 60,
      "outputs": [
        {
          "output_type": "execute_result",
          "data": {
            "text/plain": [
              "(<tf.Tensor: shape=(2, 3), dtype=int32, numpy=\n",
              " array([[1, 3, 5],\n",
              "        [2, 4, 6]], dtype=int32)>,\n",
              " <tf.Tensor: shape=(2, 3), dtype=int32, numpy=\n",
              " array([[1, 2, 3],\n",
              "        [4, 5, 6]], dtype=int32)>,\n",
              " <tf.Tensor: shape=(3, 2), dtype=int32, numpy=\n",
              " array([[1, 2],\n",
              "        [3, 4],\n",
              "        [5, 6]], dtype=int32)>)"
            ]
          },
          "metadata": {
            "tags": []
          },
          "execution_count": 60
        }
      ]
    },
    {
      "cell_type": "code",
      "metadata": {
        "colab": {
          "base_uri": "https://localhost:8080/"
        },
        "id": "tNijxTdpRtpk",
        "outputId": "9b4b0193-c69d-47c3-e203-5d7bee090a41"
      },
      "source": [
        "tf.matmul(tf.transpose(X), Y)"
      ],
      "execution_count": 61,
      "outputs": [
        {
          "output_type": "execute_result",
          "data": {
            "text/plain": [
              "<tf.Tensor: shape=(2, 2), dtype=int32, numpy=\n",
              "array([[ 89,  98],\n",
              "       [116, 128]], dtype=int32)>"
            ]
          },
          "metadata": {
            "tags": []
          },
          "execution_count": 61
        }
      ]
    },
    {
      "cell_type": "markdown",
      "metadata": {
        "id": "p9cFziWCSGDE"
      },
      "source": [
        "**The dot product**\n",
        "\n",
        "Matrix multiplication is also referred to as the dot product.\n",
        "\n",
        "You can perform matrix multiplication using:\n",
        "* `tf.matmul()`\n",
        "* `tf.tensordot()`"
      ]
    },
    {
      "cell_type": "code",
      "metadata": {
        "colab": {
          "base_uri": "https://localhost:8080/"
        },
        "id": "AqYZbhiSS08k",
        "outputId": "876a60b1-49e1-4312-a367-fafaa0337929"
      },
      "source": [
        "# Perform the dot product on X and Y (requires X or Y to be transposed)\n",
        "X, Y"
      ],
      "execution_count": 62,
      "outputs": [
        {
          "output_type": "execute_result",
          "data": {
            "text/plain": [
              "(<tf.Tensor: shape=(3, 2), dtype=int32, numpy=\n",
              " array([[1, 2],\n",
              "        [3, 4],\n",
              "        [5, 6]], dtype=int32)>, <tf.Tensor: shape=(3, 2), dtype=int32, numpy=\n",
              " array([[ 7,  8],\n",
              "        [ 9, 10],\n",
              "        [11, 12]], dtype=int32)>)"
            ]
          },
          "metadata": {
            "tags": []
          },
          "execution_count": 62
        }
      ]
    },
    {
      "cell_type": "code",
      "metadata": {
        "colab": {
          "base_uri": "https://localhost:8080/"
        },
        "id": "sM84A-YBTDGi",
        "outputId": "b2cbce97-1057-4c4d-d5a2-2770f3be7ba0"
      },
      "source": [
        "tf.tensordot(tf.transpose(X), Y, axes=1)"
      ],
      "execution_count": 63,
      "outputs": [
        {
          "output_type": "execute_result",
          "data": {
            "text/plain": [
              "<tf.Tensor: shape=(2, 2), dtype=int32, numpy=\n",
              "array([[ 89,  98],\n",
              "       [116, 128]], dtype=int32)>"
            ]
          },
          "metadata": {
            "tags": []
          },
          "execution_count": 63
        }
      ]
    },
    {
      "cell_type": "code",
      "metadata": {
        "colab": {
          "base_uri": "https://localhost:8080/"
        },
        "id": "FiLDJGgITLGR",
        "outputId": "92419f63-3081-4691-b45f-5e713bec58b6"
      },
      "source": [
        "# Perform matrix mult between X and Y (transposed)\n",
        "tf.matmul(X, tf.transpose(Y))"
      ],
      "execution_count": 64,
      "outputs": [
        {
          "output_type": "execute_result",
          "data": {
            "text/plain": [
              "<tf.Tensor: shape=(3, 3), dtype=int32, numpy=\n",
              "array([[ 23,  29,  35],\n",
              "       [ 53,  67,  81],\n",
              "       [ 83, 105, 127]], dtype=int32)>"
            ]
          },
          "metadata": {
            "tags": []
          },
          "execution_count": 64
        }
      ]
    },
    {
      "cell_type": "code",
      "metadata": {
        "colab": {
          "base_uri": "https://localhost:8080/"
        },
        "id": "VkNv9KUdXJ9u",
        "outputId": "cd7b5078-de29-40d9-cc32-091c7d4f2a24"
      },
      "source": [
        "# Perform matrix mult between X and Y (reshaped)\n",
        "tf.matmul(X, tf.reshape(Y, shape=(2,3)))"
      ],
      "execution_count": 65,
      "outputs": [
        {
          "output_type": "execute_result",
          "data": {
            "text/plain": [
              "<tf.Tensor: shape=(3, 3), dtype=int32, numpy=\n",
              "array([[ 27,  30,  33],\n",
              "       [ 61,  68,  75],\n",
              "       [ 95, 106, 117]], dtype=int32)>"
            ]
          },
          "metadata": {
            "tags": []
          },
          "execution_count": 65
        }
      ]
    },
    {
      "cell_type": "code",
      "metadata": {
        "colab": {
          "base_uri": "https://localhost:8080/"
        },
        "id": "LNccJfwUXRVU",
        "outputId": "944ef9ab-a580-4b89-ac84-700fa0b5b39c"
      },
      "source": [
        "# Check the values of Y, reshape Y and transposed Y\n",
        "print(\"Normal Y: \")\n",
        "print(Y, \"\\n\")\n",
        "print(\"Y reshaped to (2,3): \")\n",
        "print(tf.reshape(Y, shape=(2,3)), \"\\n\")\n",
        "print(\"Y transposed: \")\n",
        "print(tf.transpose(Y))"
      ],
      "execution_count": 66,
      "outputs": [
        {
          "output_type": "stream",
          "text": [
            "Normal Y: \n",
            "tf.Tensor(\n",
            "[[ 7  8]\n",
            " [ 9 10]\n",
            " [11 12]], shape=(3, 2), dtype=int32) \n",
            "\n",
            "Y reshaped to (2,3): \n",
            "tf.Tensor(\n",
            "[[ 7  8  9]\n",
            " [10 11 12]], shape=(2, 3), dtype=int32) \n",
            "\n",
            "Y transposed: \n",
            "tf.Tensor(\n",
            "[[ 7  9 11]\n",
            " [ 8 10 12]], shape=(2, 3), dtype=int32)\n"
          ],
          "name": "stdout"
        }
      ]
    },
    {
      "cell_type": "code",
      "metadata": {
        "colab": {
          "base_uri": "https://localhost:8080/"
        },
        "id": "mXGgXTbDXshb",
        "outputId": "eaf42b7c-3623-4cfd-b3e8-537f45ee265d"
      },
      "source": [
        "tf.matmul(X, tf.transpose(Y))"
      ],
      "execution_count": 67,
      "outputs": [
        {
          "output_type": "execute_result",
          "data": {
            "text/plain": [
              "<tf.Tensor: shape=(3, 3), dtype=int32, numpy=\n",
              "array([[ 23,  29,  35],\n",
              "       [ 53,  67,  81],\n",
              "       [ 83, 105, 127]], dtype=int32)>"
            ]
          },
          "metadata": {
            "tags": []
          },
          "execution_count": 67
        }
      ]
    },
    {
      "cell_type": "markdown",
      "metadata": {
        "id": "RsAswYGyYprq"
      },
      "source": [
        "Generally, when multiplying tensors, transpose one to satisfy matrix multiplication rules"
      ]
    },
    {
      "cell_type": "markdown",
      "metadata": {
        "id": "uWnB9fO1ZDzD"
      },
      "source": [
        "### Changing the datatype of a tensor\n"
      ]
    },
    {
      "cell_type": "code",
      "metadata": {
        "colab": {
          "base_uri": "https://localhost:8080/"
        },
        "id": "kTtWbTbV6r9x",
        "outputId": "44a5bb20-f4f6-4ee4-a7a3-1f4862ccae13"
      },
      "source": [
        "# Create a new tensor with default datatype (float32)\n",
        "B = tf.constant([1.7, 7.4])\n",
        "B.dtype"
      ],
      "execution_count": 68,
      "outputs": [
        {
          "output_type": "execute_result",
          "data": {
            "text/plain": [
              "tf.float32"
            ]
          },
          "metadata": {
            "tags": []
          },
          "execution_count": 68
        }
      ]
    },
    {
      "cell_type": "code",
      "metadata": {
        "colab": {
          "base_uri": "https://localhost:8080/"
        },
        "id": "O14A1UPS60Qj",
        "outputId": "f25d4cf6-ab91-4e42-a0a0-8dbc734e86bb"
      },
      "source": [
        "C = tf.constant([7, 10])\n",
        "C.dtype"
      ],
      "execution_count": 69,
      "outputs": [
        {
          "output_type": "execute_result",
          "data": {
            "text/plain": [
              "tf.int32"
            ]
          },
          "metadata": {
            "tags": []
          },
          "execution_count": 69
        }
      ]
    },
    {
      "cell_type": "code",
      "metadata": {
        "colab": {
          "base_uri": "https://localhost:8080/"
        },
        "id": "mWheF4K864Av",
        "outputId": "5b010d2a-05c1-4538-f636-a05c14131539"
      },
      "source": [
        "# Change from float32 to float16 (reduced precision)\n",
        "D = tf.cast(B, dtype=tf.float16)\n",
        "D, D.dtype"
      ],
      "execution_count": 70,
      "outputs": [
        {
          "output_type": "execute_result",
          "data": {
            "text/plain": [
              "(<tf.Tensor: shape=(2,), dtype=float16, numpy=array([1.7, 7.4], dtype=float16)>,\n",
              " tf.float16)"
            ]
          },
          "metadata": {
            "tags": []
          },
          "execution_count": 70
        }
      ]
    },
    {
      "cell_type": "code",
      "metadata": {
        "colab": {
          "base_uri": "https://localhost:8080/"
        },
        "id": "HGmp3ihh7l2s",
        "outputId": "0d0e68fe-817e-4cd4-bc4d-70004b4c4aba"
      },
      "source": [
        "# Change from int32 to float32\n",
        "E = tf.cast(C, dtype=tf.float32)\n",
        "E, E.dtype"
      ],
      "execution_count": 71,
      "outputs": [
        {
          "output_type": "execute_result",
          "data": {
            "text/plain": [
              "(<tf.Tensor: shape=(2,), dtype=float32, numpy=array([ 7., 10.], dtype=float32)>,\n",
              " tf.float32)"
            ]
          },
          "metadata": {
            "tags": []
          },
          "execution_count": 71
        }
      ]
    },
    {
      "cell_type": "markdown",
      "metadata": {
        "id": "wOCb7YBg78-c"
      },
      "source": [
        "### Aggregating Tensors\n",
        "\n",
        "_Aggregating tensors_: Condensing them from multiple values to a smaller amount of values."
      ]
    },
    {
      "cell_type": "code",
      "metadata": {
        "colab": {
          "base_uri": "https://localhost:8080/"
        },
        "id": "psRqH-ln9FaB",
        "outputId": "42f8e8c1-6c55-40e6-d40b-5d63ad7a9396"
      },
      "source": [
        "# Get the absolute values\n",
        "D = tf.constant([-7, -10])\n",
        "D"
      ],
      "execution_count": 72,
      "outputs": [
        {
          "output_type": "execute_result",
          "data": {
            "text/plain": [
              "<tf.Tensor: shape=(2,), dtype=int32, numpy=array([ -7, -10], dtype=int32)>"
            ]
          },
          "metadata": {
            "tags": []
          },
          "execution_count": 72
        }
      ]
    },
    {
      "cell_type": "code",
      "metadata": {
        "colab": {
          "base_uri": "https://localhost:8080/"
        },
        "id": "2oRppxpW9QX9",
        "outputId": "6a479aae-eec5-4085-dbe1-ec9fc5ad242f"
      },
      "source": [
        "tf.abs(D)"
      ],
      "execution_count": 73,
      "outputs": [
        {
          "output_type": "execute_result",
          "data": {
            "text/plain": [
              "<tf.Tensor: shape=(2,), dtype=int32, numpy=array([ 7, 10], dtype=int32)>"
            ]
          },
          "metadata": {
            "tags": []
          },
          "execution_count": 73
        }
      ]
    },
    {
      "cell_type": "markdown",
      "metadata": {
        "id": "g_BXngj39TOn"
      },
      "source": [
        "Let's go through the following forms of aggregration:\n",
        "* Minimum\n",
        "* Maximum\n",
        "* Mean\n",
        "* Sum\n"
      ]
    },
    {
      "cell_type": "code",
      "metadata": {
        "id": "3z1HOSRb9obc"
      },
      "source": [
        "# Create a random tensor with values between 0 and 100 of size 50\n",
        "E = tf.constant(np.random.randint(0, 100, size=50))"
      ],
      "execution_count": 74,
      "outputs": []
    },
    {
      "cell_type": "code",
      "metadata": {
        "colab": {
          "base_uri": "https://localhost:8080/"
        },
        "id": "MvVT4vMY_GIy",
        "outputId": "1489e22b-f56d-4766-beaf-c5748218be96"
      },
      "source": [
        "E"
      ],
      "execution_count": 75,
      "outputs": [
        {
          "output_type": "execute_result",
          "data": {
            "text/plain": [
              "<tf.Tensor: shape=(50,), dtype=int64, numpy=\n",
              "array([92, 21, 23, 15, 15, 24, 17, 43, 13, 11, 88, 85, 49, 51, 52, 57, 38,\n",
              "       46, 48,  4, 59, 10, 96, 45, 75, 78, 34,  0, 90,  5, 11, 47, 51,  4,\n",
              "       51, 77, 85, 20, 51,  1, 85, 81, 43, 14, 85, 23, 99, 76, 34, 78])>"
            ]
          },
          "metadata": {
            "tags": []
          },
          "execution_count": 75
        }
      ]
    },
    {
      "cell_type": "code",
      "metadata": {
        "colab": {
          "base_uri": "https://localhost:8080/"
        },
        "id": "KhTfO7-L_HKK",
        "outputId": "bf977ba5-8fc4-4b41-d280-04c6bb48b496"
      },
      "source": [
        "E.ndim, E.shape, tf.size(E)"
      ],
      "execution_count": 76,
      "outputs": [
        {
          "output_type": "execute_result",
          "data": {
            "text/plain": [
              "(1, TensorShape([50]), <tf.Tensor: shape=(), dtype=int32, numpy=50>)"
            ]
          },
          "metadata": {
            "tags": []
          },
          "execution_count": 76
        }
      ]
    },
    {
      "cell_type": "code",
      "metadata": {
        "colab": {
          "base_uri": "https://localhost:8080/"
        },
        "id": "9pa9ksCK_K88",
        "outputId": "6aa1d523-15eb-4dc5-da2b-312f04933447"
      },
      "source": [
        "# Find the minimum\n",
        "tf.reduce_min(E)"
      ],
      "execution_count": 77,
      "outputs": [
        {
          "output_type": "execute_result",
          "data": {
            "text/plain": [
              "<tf.Tensor: shape=(), dtype=int64, numpy=0>"
            ]
          },
          "metadata": {
            "tags": []
          },
          "execution_count": 77
        }
      ]
    },
    {
      "cell_type": "code",
      "metadata": {
        "colab": {
          "base_uri": "https://localhost:8080/"
        },
        "id": "L78CWZh4_QC_",
        "outputId": "6afd65bb-cc06-45da-80fc-031b3c49079f"
      },
      "source": [
        "# Find the maximum\n",
        "tf.reduce_max(E)"
      ],
      "execution_count": 78,
      "outputs": [
        {
          "output_type": "execute_result",
          "data": {
            "text/plain": [
              "<tf.Tensor: shape=(), dtype=int64, numpy=99>"
            ]
          },
          "metadata": {
            "tags": []
          },
          "execution_count": 78
        }
      ]
    },
    {
      "cell_type": "code",
      "metadata": {
        "colab": {
          "base_uri": "https://localhost:8080/"
        },
        "id": "169sUxpS_Zz_",
        "outputId": "1767a5ca-fa5c-4348-b802-f2491a338428"
      },
      "source": [
        "# Find the mean\n",
        "tf.reduce_mean(E)"
      ],
      "execution_count": 79,
      "outputs": [
        {
          "output_type": "execute_result",
          "data": {
            "text/plain": [
              "<tf.Tensor: shape=(), dtype=int64, numpy=46>"
            ]
          },
          "metadata": {
            "tags": []
          },
          "execution_count": 79
        }
      ]
    },
    {
      "cell_type": "code",
      "metadata": {
        "colab": {
          "base_uri": "https://localhost:8080/"
        },
        "id": "L460QrAT_d6T",
        "outputId": "5562b194-71c2-4b82-b675-d8b1d2b56baf"
      },
      "source": [
        "# Find the sum\n",
        "tf.reduce_sum(E)"
      ],
      "execution_count": 80,
      "outputs": [
        {
          "output_type": "execute_result",
          "data": {
            "text/plain": [
              "<tf.Tensor: shape=(), dtype=int64, numpy=2300>"
            ]
          },
          "metadata": {
            "tags": []
          },
          "execution_count": 80
        }
      ]
    },
    {
      "cell_type": "markdown",
      "metadata": {
        "id": "C81f7Rq5_hz0"
      },
      "source": [
        "**Exercise** Find the variance and standard deviation of `E`."
      ]
    },
    {
      "cell_type": "code",
      "metadata": {
        "colab": {
          "base_uri": "https://localhost:8080/"
        },
        "id": "fw9w7iVF_6Gc",
        "outputId": "c92bf546-a76f-4794-9ed1-29912b5d7b61"
      },
      "source": [
        "# Standard Deviation (reduce_std requires a real/complex input, thus the cast)\n",
        "tf.math.reduce_std(tf.cast(E, dtype=tf.float32))"
      ],
      "execution_count": 81,
      "outputs": [
        {
          "output_type": "execute_result",
          "data": {
            "text/plain": [
              "<tf.Tensor: shape=(), dtype=float32, numpy=29.9366>"
            ]
          },
          "metadata": {
            "tags": []
          },
          "execution_count": 81
        }
      ]
    },
    {
      "cell_type": "code",
      "metadata": {
        "colab": {
          "base_uri": "https://localhost:8080/"
        },
        "id": "UvAnBjGx__DW",
        "outputId": "689e307c-6b47-47e3-9ea1-74187159145c"
      },
      "source": [
        "# Variance (lives in tensorflow_probability)\n",
        "import tensorflow_probability as tfp\n",
        "tfp.stats.variance(E)"
      ],
      "execution_count": 82,
      "outputs": [
        {
          "output_type": "execute_result",
          "data": {
            "text/plain": [
              "<tf.Tensor: shape=(), dtype=int64, numpy=896>"
            ]
          },
          "metadata": {
            "tags": []
          },
          "execution_count": 82
        }
      ]
    },
    {
      "cell_type": "code",
      "metadata": {
        "colab": {
          "base_uri": "https://localhost:8080/"
        },
        "id": "dLQii9yeEtVn",
        "outputId": "e361b3cf-9d94-4894-a8e7-c42e1c1ae539"
      },
      "source": [
        "# Another variance\n",
        "tf.math.reduce_variance(tf.cast(E, dtype=tf.float32))"
      ],
      "execution_count": 83,
      "outputs": [
        {
          "output_type": "execute_result",
          "data": {
            "text/plain": [
              "<tf.Tensor: shape=(), dtype=float32, numpy=896.2>"
            ]
          },
          "metadata": {
            "tags": []
          },
          "execution_count": 83
        }
      ]
    },
    {
      "cell_type": "markdown",
      "metadata": {
        "id": "IA9jjoXIBJ4i"
      },
      "source": [
        "### Find the positional minimum and maximum of a tensor\n",
        "\n"
      ]
    },
    {
      "cell_type": "code",
      "metadata": {
        "colab": {
          "base_uri": "https://localhost:8080/"
        },
        "id": "XQnkPoEPb_N3",
        "outputId": "4cd88d5b-d7d6-4f7d-8494-f80bb892d085"
      },
      "source": [
        "# Create a new tensor for finding position min and max\n",
        "tf.random.set_seed(42)\n",
        "F = tf.random.uniform(shape=[50])\n",
        "F"
      ],
      "execution_count": 84,
      "outputs": [
        {
          "output_type": "execute_result",
          "data": {
            "text/plain": [
              "<tf.Tensor: shape=(50,), dtype=float32, numpy=\n",
              "array([0.6645621 , 0.44100678, 0.3528825 , 0.46448255, 0.03366041,\n",
              "       0.68467236, 0.74011743, 0.8724445 , 0.22632635, 0.22319686,\n",
              "       0.3103881 , 0.7223358 , 0.13318717, 0.5480639 , 0.5746088 ,\n",
              "       0.8996835 , 0.00946367, 0.5212307 , 0.6345445 , 0.1993283 ,\n",
              "       0.72942245, 0.54583454, 0.10756552, 0.6767061 , 0.6602763 ,\n",
              "       0.33695042, 0.60141766, 0.21062577, 0.8527372 , 0.44062173,\n",
              "       0.9485276 , 0.23752594, 0.81179297, 0.5263394 , 0.494308  ,\n",
              "       0.21612847, 0.8457197 , 0.8718841 , 0.3083862 , 0.6868038 ,\n",
              "       0.23764038, 0.7817228 , 0.9671384 , 0.06870162, 0.79873943,\n",
              "       0.66028714, 0.5871513 , 0.16461694, 0.7381023 , 0.32054043],\n",
              "      dtype=float32)>"
            ]
          },
          "metadata": {
            "tags": []
          },
          "execution_count": 84
        }
      ]
    },
    {
      "cell_type": "code",
      "metadata": {
        "colab": {
          "base_uri": "https://localhost:8080/"
        },
        "id": "Z7dZjpK1_2Hc",
        "outputId": "a3ca6b99-0a4a-4e25-cc2f-bb739681a101"
      },
      "source": [
        "# Find the positional maximum - the index of the max entry\n",
        "tf.argmax(F)"
      ],
      "execution_count": 85,
      "outputs": [
        {
          "output_type": "execute_result",
          "data": {
            "text/plain": [
              "<tf.Tensor: shape=(), dtype=int64, numpy=42>"
            ]
          },
          "metadata": {
            "tags": []
          },
          "execution_count": 85
        }
      ]
    },
    {
      "cell_type": "code",
      "metadata": {
        "colab": {
          "base_uri": "https://localhost:8080/"
        },
        "id": "Nc6Q7X6GAJZI",
        "outputId": "e1003662-9d8a-4688-e1af-da768ed9839e"
      },
      "source": [
        "# Index on our largest value position - pull the value of the max\n",
        "F[tf.argmax(F)]"
      ],
      "execution_count": 86,
      "outputs": [
        {
          "output_type": "execute_result",
          "data": {
            "text/plain": [
              "<tf.Tensor: shape=(), dtype=float32, numpy=0.9671384>"
            ]
          },
          "metadata": {
            "tags": []
          },
          "execution_count": 86
        }
      ]
    },
    {
      "cell_type": "code",
      "metadata": {
        "colab": {
          "base_uri": "https://localhost:8080/"
        },
        "id": "6H_tuomcAToC",
        "outputId": "bdd61925-7b2e-4e8b-b955-c8abb737d957"
      },
      "source": [
        "# Find the max value of F - another method\n",
        "tf.reduce_max(F)"
      ],
      "execution_count": 87,
      "outputs": [
        {
          "output_type": "execute_result",
          "data": {
            "text/plain": [
              "<tf.Tensor: shape=(), dtype=float32, numpy=0.9671384>"
            ]
          },
          "metadata": {
            "tags": []
          },
          "execution_count": 87
        }
      ]
    },
    {
      "cell_type": "code",
      "metadata": {
        "colab": {
          "base_uri": "https://localhost:8080/"
        },
        "id": "p7QY-Xu7AXkC",
        "outputId": "bc307b47-e4d0-4ff7-8221-c762c4b594e8"
      },
      "source": [
        "# Check for equality - these should be equal\n",
        "assert F[tf.argmax(F)] == tf.reduce_max(F)\n",
        "F[tf.argmax(F)] == tf.reduce_max(F)"
      ],
      "execution_count": 88,
      "outputs": [
        {
          "output_type": "execute_result",
          "data": {
            "text/plain": [
              "<tf.Tensor: shape=(), dtype=bool, numpy=True>"
            ]
          },
          "metadata": {
            "tags": []
          },
          "execution_count": 88
        }
      ]
    },
    {
      "cell_type": "code",
      "metadata": {
        "colab": {
          "base_uri": "https://localhost:8080/"
        },
        "id": "LoVqz5H_AdGY",
        "outputId": "a4d180f1-ad0e-417c-c3d4-297bc209a2e3"
      },
      "source": [
        "# Find the positional minimum\n",
        "tf.argmin(F)"
      ],
      "execution_count": 89,
      "outputs": [
        {
          "output_type": "execute_result",
          "data": {
            "text/plain": [
              "<tf.Tensor: shape=(), dtype=int64, numpy=16>"
            ]
          },
          "metadata": {
            "tags": []
          },
          "execution_count": 89
        }
      ]
    },
    {
      "cell_type": "code",
      "metadata": {
        "colab": {
          "base_uri": "https://localhost:8080/"
        },
        "id": "4CsS-xqvA6Tm",
        "outputId": "d30520d0-2d08-4baa-be40-0596903ffd2a"
      },
      "source": [
        "# Find the minimum value using the positional minimum\n",
        "F[tf.argmin(F)]"
      ],
      "execution_count": 90,
      "outputs": [
        {
          "output_type": "execute_result",
          "data": {
            "text/plain": [
              "<tf.Tensor: shape=(), dtype=float32, numpy=0.009463668>"
            ]
          },
          "metadata": {
            "tags": []
          },
          "execution_count": 90
        }
      ]
    },
    {
      "cell_type": "code",
      "metadata": {
        "colab": {
          "base_uri": "https://localhost:8080/"
        },
        "id": "9gUkzXD_BB3w",
        "outputId": "2f8d830d-3bb2-4cd3-e0f6-1dac81279a9f"
      },
      "source": [
        "# Find the minimum using reduce_min\n",
        "tf.reduce_min(F)"
      ],
      "execution_count": 91,
      "outputs": [
        {
          "output_type": "execute_result",
          "data": {
            "text/plain": [
              "<tf.Tensor: shape=(), dtype=float32, numpy=0.009463668>"
            ]
          },
          "metadata": {
            "tags": []
          },
          "execution_count": 91
        }
      ]
    },
    {
      "cell_type": "markdown",
      "metadata": {
        "id": "xsK1s6bLBIvV"
      },
      "source": [
        "### Squeezing a tensor (removing all single dimensions)"
      ]
    },
    {
      "cell_type": "code",
      "metadata": {
        "colab": {
          "base_uri": "https://localhost:8080/"
        },
        "id": "H4b1S9zuBVKQ",
        "outputId": "3fd09a79-bff5-42be-f83f-a33f38fddc78"
      },
      "source": [
        "# Create a tensor to get started\n",
        "tf.random.set_seed(42)\n",
        "G = tf.constant(tf.random.uniform(shape=[50]), shape=(1,1,1,1,50))\n",
        "G"
      ],
      "execution_count": 92,
      "outputs": [
        {
          "output_type": "execute_result",
          "data": {
            "text/plain": [
              "<tf.Tensor: shape=(1, 1, 1, 1, 50), dtype=float32, numpy=\n",
              "array([[[[[0.6645621 , 0.44100678, 0.3528825 , 0.46448255, 0.03366041,\n",
              "           0.68467236, 0.74011743, 0.8724445 , 0.22632635, 0.22319686,\n",
              "           0.3103881 , 0.7223358 , 0.13318717, 0.5480639 , 0.5746088 ,\n",
              "           0.8996835 , 0.00946367, 0.5212307 , 0.6345445 , 0.1993283 ,\n",
              "           0.72942245, 0.54583454, 0.10756552, 0.6767061 , 0.6602763 ,\n",
              "           0.33695042, 0.60141766, 0.21062577, 0.8527372 , 0.44062173,\n",
              "           0.9485276 , 0.23752594, 0.81179297, 0.5263394 , 0.494308  ,\n",
              "           0.21612847, 0.8457197 , 0.8718841 , 0.3083862 , 0.6868038 ,\n",
              "           0.23764038, 0.7817228 , 0.9671384 , 0.06870162, 0.79873943,\n",
              "           0.66028714, 0.5871513 , 0.16461694, 0.7381023 , 0.32054043]]]]],\n",
              "      dtype=float32)>"
            ]
          },
          "metadata": {
            "tags": []
          },
          "execution_count": 92
        }
      ]
    },
    {
      "cell_type": "code",
      "metadata": {
        "colab": {
          "base_uri": "https://localhost:8080/"
        },
        "id": "s3KPVL9PBkBY",
        "outputId": "f24d41db-f261-4dc3-ad46-7144f915f418"
      },
      "source": [
        "G.shape"
      ],
      "execution_count": 93,
      "outputs": [
        {
          "output_type": "execute_result",
          "data": {
            "text/plain": [
              "TensorShape([1, 1, 1, 1, 50])"
            ]
          },
          "metadata": {
            "tags": []
          },
          "execution_count": 93
        }
      ]
    },
    {
      "cell_type": "code",
      "metadata": {
        "colab": {
          "base_uri": "https://localhost:8080/"
        },
        "id": "-PD8B4JqBq3h",
        "outputId": "93d3c5d5-cf08-418d-be11-c57cedd0f02b"
      },
      "source": [
        "G_squeezed = tf.squeeze(G)\n",
        "G_squeezed, G_squeezed.shape"
      ],
      "execution_count": 94,
      "outputs": [
        {
          "output_type": "execute_result",
          "data": {
            "text/plain": [
              "(<tf.Tensor: shape=(50,), dtype=float32, numpy=\n",
              " array([0.6645621 , 0.44100678, 0.3528825 , 0.46448255, 0.03366041,\n",
              "        0.68467236, 0.74011743, 0.8724445 , 0.22632635, 0.22319686,\n",
              "        0.3103881 , 0.7223358 , 0.13318717, 0.5480639 , 0.5746088 ,\n",
              "        0.8996835 , 0.00946367, 0.5212307 , 0.6345445 , 0.1993283 ,\n",
              "        0.72942245, 0.54583454, 0.10756552, 0.6767061 , 0.6602763 ,\n",
              "        0.33695042, 0.60141766, 0.21062577, 0.8527372 , 0.44062173,\n",
              "        0.9485276 , 0.23752594, 0.81179297, 0.5263394 , 0.494308  ,\n",
              "        0.21612847, 0.8457197 , 0.8718841 , 0.3083862 , 0.6868038 ,\n",
              "        0.23764038, 0.7817228 , 0.9671384 , 0.06870162, 0.79873943,\n",
              "        0.66028714, 0.5871513 , 0.16461694, 0.7381023 , 0.32054043],\n",
              "       dtype=float32)>, TensorShape([50]))"
            ]
          },
          "metadata": {
            "tags": []
          },
          "execution_count": 94
        }
      ]
    },
    {
      "cell_type": "markdown",
      "metadata": {
        "id": "9AaqOVzQBxj0"
      },
      "source": [
        "### One-hot encoding tensors\n",
        "A form of numerical encoding"
      ]
    },
    {
      "cell_type": "code",
      "metadata": {
        "colab": {
          "base_uri": "https://localhost:8080/"
        },
        "id": "R9mOv_koDkeV",
        "outputId": "27ea613e-5bae-4e9f-c937-8cc10fe21e1b"
      },
      "source": [
        "# Create a list of indices\n",
        "some_list = [0, 1, 2, 3] # could be red, green, blue, cyan\n",
        "# one hot encode the list\n",
        "tf.one_hot(some_list, depth=4) # depth is required"
      ],
      "execution_count": 95,
      "outputs": [
        {
          "output_type": "execute_result",
          "data": {
            "text/plain": [
              "<tf.Tensor: shape=(4, 4), dtype=float32, numpy=\n",
              "array([[1., 0., 0., 0.],\n",
              "       [0., 1., 0., 0.],\n",
              "       [0., 0., 1., 0.],\n",
              "       [0., 0., 0., 1.]], dtype=float32)>"
            ]
          },
          "metadata": {
            "tags": []
          },
          "execution_count": 95
        }
      ]
    },
    {
      "cell_type": "code",
      "metadata": {
        "colab": {
          "base_uri": "https://localhost:8080/"
        },
        "id": "AvuvzlY-D5ES",
        "outputId": "c5fe828d-8728-4af8-94cc-2c7eb354cb74"
      },
      "source": [
        "# Specify custom values for on-hot encoding (rarely used)\n",
        "tf.one_hot(some_list, depth=4, on_value=\"on\", off_value=\"off\")"
      ],
      "execution_count": 96,
      "outputs": [
        {
          "output_type": "execute_result",
          "data": {
            "text/plain": [
              "<tf.Tensor: shape=(4, 4), dtype=string, numpy=\n",
              "array([[b'on', b'off', b'off', b'off'],\n",
              "       [b'off', b'on', b'off', b'off'],\n",
              "       [b'off', b'off', b'on', b'off'],\n",
              "       [b'off', b'off', b'off', b'on']], dtype=object)>"
            ]
          },
          "metadata": {
            "tags": []
          },
          "execution_count": 96
        }
      ]
    },
    {
      "cell_type": "markdown",
      "metadata": {
        "id": "oSKXvVm1EPns"
      },
      "source": [
        "### Squaring, log, square root"
      ]
    },
    {
      "cell_type": "code",
      "metadata": {
        "colab": {
          "base_uri": "https://localhost:8080/"
        },
        "id": "3LMfXvzDExsb",
        "outputId": "44546d5f-a75d-4d29-9aac-79f3da9ffcf8"
      },
      "source": [
        "# Create a new tensor\n",
        "H = tf.range(1,10)\n",
        "H"
      ],
      "execution_count": 97,
      "outputs": [
        {
          "output_type": "execute_result",
          "data": {
            "text/plain": [
              "<tf.Tensor: shape=(9,), dtype=int32, numpy=array([1, 2, 3, 4, 5, 6, 7, 8, 9], dtype=int32)>"
            ]
          },
          "metadata": {
            "tags": []
          },
          "execution_count": 97
        }
      ]
    },
    {
      "cell_type": "code",
      "metadata": {
        "colab": {
          "base_uri": "https://localhost:8080/"
        },
        "id": "TovDUgM0E3NG",
        "outputId": "0b78ccf7-66bd-4b41-f8b5-ddcf9b5a8de8"
      },
      "source": [
        "# Square\n",
        "tf.square(H)"
      ],
      "execution_count": 98,
      "outputs": [
        {
          "output_type": "execute_result",
          "data": {
            "text/plain": [
              "<tf.Tensor: shape=(9,), dtype=int32, numpy=array([ 1,  4,  9, 16, 25, 36, 49, 64, 81], dtype=int32)>"
            ]
          },
          "metadata": {
            "tags": []
          },
          "execution_count": 98
        }
      ]
    },
    {
      "cell_type": "code",
      "metadata": {
        "colab": {
          "base_uri": "https://localhost:8080/"
        },
        "id": "Sqy59vQ-E77z",
        "outputId": "348f2330-d903-4953-aa4b-7b350fa09279"
      },
      "source": [
        "# Square root (requires non int type)\n",
        "tf.sqrt(tf.cast(H, dtype=tf.float32))"
      ],
      "execution_count": 99,
      "outputs": [
        {
          "output_type": "execute_result",
          "data": {
            "text/plain": [
              "<tf.Tensor: shape=(9,), dtype=float32, numpy=\n",
              "array([1.       , 1.4142135, 1.7320508, 2.       , 2.236068 , 2.4494898,\n",
              "       2.6457512, 2.828427 , 3.       ], dtype=float32)>"
            ]
          },
          "metadata": {
            "tags": []
          },
          "execution_count": 99
        }
      ]
    },
    {
      "cell_type": "code",
      "metadata": {
        "colab": {
          "base_uri": "https://localhost:8080/"
        },
        "id": "0iu0U0fRFCCu",
        "outputId": "cd1d2d2f-fd03-4332-ccf3-7d604200db01"
      },
      "source": [
        "# Log (requires non int type)\n",
        "tf.math.log(tf.cast(H, dtype=tf.float32))"
      ],
      "execution_count": 100,
      "outputs": [
        {
          "output_type": "execute_result",
          "data": {
            "text/plain": [
              "<tf.Tensor: shape=(9,), dtype=float32, numpy=\n",
              "array([0.       , 0.6931472, 1.0986123, 1.3862944, 1.609438 , 1.7917595,\n",
              "       1.9459102, 2.0794415, 2.1972246], dtype=float32)>"
            ]
          },
          "metadata": {
            "tags": []
          },
          "execution_count": 100
        }
      ]
    },
    {
      "cell_type": "markdown",
      "metadata": {
        "id": "6ybDezaDFbdi"
      },
      "source": [
        "### Tensors and NumPy\n",
        "TensorFlow interacts with NumPy arrays\n",
        "\n",
        "**NOTE** One of the main differences between a TensorFlow tensor and a NumPy array is that a TF Tensor can be run on a GPU/TPU for faster processing."
      ]
    },
    {
      "cell_type": "code",
      "metadata": {
        "colab": {
          "base_uri": "https://localhost:8080/"
        },
        "id": "rE9NQOL0F6Ov",
        "outputId": "cafebf93-3259-40e7-a041-c5cb90bc0a3c"
      },
      "source": [
        "# Create a tensor directly from a numpy array\n",
        "J = tf.constant(np.array([3., 7., 10.]))\n",
        "J"
      ],
      "execution_count": 101,
      "outputs": [
        {
          "output_type": "execute_result",
          "data": {
            "text/plain": [
              "<tf.Tensor: shape=(3,), dtype=float64, numpy=array([ 3.,  7., 10.])>"
            ]
          },
          "metadata": {
            "tags": []
          },
          "execution_count": 101
        }
      ]
    },
    {
      "cell_type": "code",
      "metadata": {
        "colab": {
          "base_uri": "https://localhost:8080/"
        },
        "id": "aYzBcYbfGpVy",
        "outputId": "a6849bbc-380e-42ec-9cc1-a6cdadbfa4a9"
      },
      "source": [
        "# Convert a tensor back into a numpy array\n",
        "np.array(J), type(np.array(J))"
      ],
      "execution_count": 102,
      "outputs": [
        {
          "output_type": "execute_result",
          "data": {
            "text/plain": [
              "(array([ 3.,  7., 10.]), numpy.ndarray)"
            ]
          },
          "metadata": {
            "tags": []
          },
          "execution_count": 102
        }
      ]
    },
    {
      "cell_type": "code",
      "metadata": {
        "colab": {
          "base_uri": "https://localhost:8080/"
        },
        "id": "xS8AkLF_GvYr",
        "outputId": "d893a275-8d9c-4205-fcd4-bcea022d1f9b"
      },
      "source": [
        "# Convert tensor J to a NumPy array\n",
        "J.numpy(), type(J.numpy())"
      ],
      "execution_count": 103,
      "outputs": [
        {
          "output_type": "execute_result",
          "data": {
            "text/plain": [
              "(array([ 3.,  7., 10.]), numpy.ndarray)"
            ]
          },
          "metadata": {
            "tags": []
          },
          "execution_count": 103
        }
      ]
    },
    {
      "cell_type": "code",
      "metadata": {
        "colab": {
          "base_uri": "https://localhost:8080/"
        },
        "id": "K3nvmOYxG3f_",
        "outputId": "4bc174b5-25da-4691-b82d-f09140da80c0"
      },
      "source": [
        "J = tf.constant([3.])\n",
        "J.numpy(), J.numpy()[0]"
      ],
      "execution_count": 104,
      "outputs": [
        {
          "output_type": "execute_result",
          "data": {
            "text/plain": [
              "(array([3.], dtype=float32), 3.0)"
            ]
          },
          "metadata": {
            "tags": []
          },
          "execution_count": 104
        }
      ]
    },
    {
      "cell_type": "code",
      "metadata": {
        "colab": {
          "base_uri": "https://localhost:8080/"
        },
        "id": "iy8F2c7hG_zg",
        "outputId": "de08e7f5-ef9d-4b5a-89e8-44eec516807d"
      },
      "source": [
        "# The default types of each are slightly different\n",
        "numpy_J = tf.constant(np.array([3., 7., 10.]))\n",
        "tensor_J = tf.constant([3., 7., 10.])\n",
        "\n",
        "# Check the datatypes of each\n",
        "numpy_J.dtype, tensor_J.dtype"
      ],
      "execution_count": 105,
      "outputs": [
        {
          "output_type": "execute_result",
          "data": {
            "text/plain": [
              "(tf.float64, tf.float32)"
            ]
          },
          "metadata": {
            "tags": []
          },
          "execution_count": 105
        }
      ]
    },
    {
      "cell_type": "markdown",
      "metadata": {
        "id": "5Brnd690HUOS"
      },
      "source": [
        "### Finding access to GPUs\n",
        "Runtime -> Change Runtime Type"
      ]
    },
    {
      "cell_type": "code",
      "metadata": {
        "colab": {
          "base_uri": "https://localhost:8080/"
        },
        "id": "24z2agfBIAUV",
        "outputId": "93d10dcf-f52d-47a6-c6da-d634b6472d0f"
      },
      "source": [
        "tf.config.list_physical_devices()"
      ],
      "execution_count": 106,
      "outputs": [
        {
          "output_type": "execute_result",
          "data": {
            "text/plain": [
              "[PhysicalDevice(name='/physical_device:CPU:0', device_type='CPU'),\n",
              " PhysicalDevice(name='/physical_device:GPU:0', device_type='GPU')]"
            ]
          },
          "metadata": {
            "tags": []
          },
          "execution_count": 106
        }
      ]
    },
    {
      "cell_type": "code",
      "metadata": {
        "colab": {
          "base_uri": "https://localhost:8080/"
        },
        "id": "fu154W0iIT3a",
        "outputId": "ca9ae62e-84d9-4628-9174-45c94d72d929"
      },
      "source": [
        "tf.config.list_physical_devices(\"GPU\")"
      ],
      "execution_count": 107,
      "outputs": [
        {
          "output_type": "execute_result",
          "data": {
            "text/plain": [
              "[PhysicalDevice(name='/physical_device:GPU:0', device_type='GPU')]"
            ]
          },
          "metadata": {
            "tags": []
          },
          "execution_count": 107
        }
      ]
    },
    {
      "cell_type": "code",
      "metadata": {
        "colab": {
          "base_uri": "https://localhost:8080/"
        },
        "id": "V4MsAFn4IhOU",
        "outputId": "08ef26da-fe93-4752-b8cc-1501016965fb"
      },
      "source": [
        "!nvidia-smi"
      ],
      "execution_count": 108,
      "outputs": [
        {
          "output_type": "stream",
          "text": [
            "Fri Apr 30 17:43:39 2021       \n",
            "+-----------------------------------------------------------------------------+\n",
            "| NVIDIA-SMI 465.19.01    Driver Version: 460.32.03    CUDA Version: 11.2     |\n",
            "|-------------------------------+----------------------+----------------------+\n",
            "| GPU  Name        Persistence-M| Bus-Id        Disp.A | Volatile Uncorr. ECC |\n",
            "| Fan  Temp  Perf  Pwr:Usage/Cap|         Memory-Usage | GPU-Util  Compute M. |\n",
            "|                               |                      |               MIG M. |\n",
            "|===============================+======================+======================|\n",
            "|   0  Tesla T4            Off  | 00000000:00:04.0 Off |                    0 |\n",
            "| N/A   56C    P0    30W /  70W |    224MiB / 15109MiB |      0%      Default |\n",
            "|                               |                      |                  N/A |\n",
            "+-------------------------------+----------------------+----------------------+\n",
            "                                                                               \n",
            "+-----------------------------------------------------------------------------+\n",
            "| Processes:                                                                  |\n",
            "|  GPU   GI   CI        PID   Type   Process name                  GPU Memory |\n",
            "|        ID   ID                                                   Usage      |\n",
            "|=============================================================================|\n",
            "+-----------------------------------------------------------------------------+\n"
          ],
          "name": "stdout"
        }
      ]
    },
    {
      "cell_type": "markdown",
      "metadata": {
        "id": "8O7VsemGJJ22"
      },
      "source": [
        "**Note:** If you have access to a cuda-enabled gpu, tensorflow will automatically use it when possible"
      ]
    },
    {
      "cell_type": "code",
      "metadata": {
        "id": "tp1o2vX_KNnl"
      },
      "source": [
        ""
      ],
      "execution_count": 108,
      "outputs": []
    },
    {
      "cell_type": "markdown",
      "metadata": {
        "id": "8huPGDQYLH6f"
      },
      "source": [
        "# Exercises"
      ]
    },
    {
      "cell_type": "markdown",
      "metadata": {
        "id": "znPX4fk8LSYB"
      },
      "source": [
        "## Create a vector, scalar, matrix and tensor with values of your choosing using tf.constant()."
      ]
    },
    {
      "cell_type": "code",
      "metadata": {
        "colab": {
          "base_uri": "https://localhost:8080/"
        },
        "id": "9PWbBloKLg0n",
        "outputId": "c40e0bf6-2e73-46de-bb3c-181813005a54"
      },
      "source": [
        "# Create a scalar (0 dimensional)\n",
        "my_scalar = tf.constant(19)\n",
        "my_scalar, my_scalar.ndim"
      ],
      "execution_count": 109,
      "outputs": [
        {
          "output_type": "execute_result",
          "data": {
            "text/plain": [
              "(<tf.Tensor: shape=(), dtype=int32, numpy=19>, 0)"
            ]
          },
          "metadata": {
            "tags": []
          },
          "execution_count": 109
        }
      ]
    },
    {
      "cell_type": "code",
      "metadata": {
        "colab": {
          "base_uri": "https://localhost:8080/"
        },
        "id": "CGvjIgdzLyGd",
        "outputId": "0e6d3153-0448-49db-8f84-a748d2e1ffe4"
      },
      "source": [
        "# Create a vector (1 dimensional)\n",
        "my_vector = tf.constant([0, 12, 32])\n",
        "my_vector, my_vector.ndim"
      ],
      "execution_count": 110,
      "outputs": [
        {
          "output_type": "execute_result",
          "data": {
            "text/plain": [
              "(<tf.Tensor: shape=(3,), dtype=int32, numpy=array([ 0, 12, 32], dtype=int32)>,\n",
              " 1)"
            ]
          },
          "metadata": {
            "tags": []
          },
          "execution_count": 110
        }
      ]
    },
    {
      "cell_type": "code",
      "metadata": {
        "colab": {
          "base_uri": "https://localhost:8080/"
        },
        "id": "bRbA78kNMC1M",
        "outputId": "41683763-4e21-4eb9-c9fe-49fc33a4043d"
      },
      "source": [
        "# Create a matrix (2 dimensional)\n",
        "my_matrix = tf.constant([[0, 1, 2],\n",
        "                         [3, 4, 5]])\n",
        "my_matrix, my_matrix.ndim"
      ],
      "execution_count": 111,
      "outputs": [
        {
          "output_type": "execute_result",
          "data": {
            "text/plain": [
              "(<tf.Tensor: shape=(2, 3), dtype=int32, numpy=\n",
              " array([[0, 1, 2],\n",
              "        [3, 4, 5]], dtype=int32)>, 2)"
            ]
          },
          "metadata": {
            "tags": []
          },
          "execution_count": 111
        }
      ]
    },
    {
      "cell_type": "code",
      "metadata": {
        "colab": {
          "base_uri": "https://localhost:8080/"
        },
        "id": "PJn9GmVYMXvO",
        "outputId": "436c08ce-8faa-4c59-9e37-31fd266ac328"
      },
      "source": [
        "# Create a tensor (n dimensional)\n",
        "my_tensor = tf.constant([[[0, 1, 2],\n",
        "                          [3, 4, 5],\n",
        "                          [6, 7, 8]],\n",
        "                         [[4, 5, 6],  \n",
        "                          [7, 8, 9],\n",
        "                          [10, 11, 12]]])\n",
        "my_tensor, my_tensor.ndim"
      ],
      "execution_count": 112,
      "outputs": [
        {
          "output_type": "execute_result",
          "data": {
            "text/plain": [
              "(<tf.Tensor: shape=(2, 3, 3), dtype=int32, numpy=\n",
              " array([[[ 0,  1,  2],\n",
              "         [ 3,  4,  5],\n",
              "         [ 6,  7,  8]],\n",
              " \n",
              "        [[ 4,  5,  6],\n",
              "         [ 7,  8,  9],\n",
              "         [10, 11, 12]]], dtype=int32)>, 3)"
            ]
          },
          "metadata": {
            "tags": []
          },
          "execution_count": 112
        }
      ]
    },
    {
      "cell_type": "markdown",
      "metadata": {
        "id": "4U00VCA8M595"
      },
      "source": [
        "## Find the shape, rank and size of each of the above"
      ]
    },
    {
      "cell_type": "code",
      "metadata": {
        "colab": {
          "base_uri": "https://localhost:8080/"
        },
        "id": "4_-Xuy3bNoBL",
        "outputId": "8313babf-982d-4e91-b8f6-bb8e40c6f8e4"
      },
      "source": [
        "# Find the shape\n",
        "my_scalar.shape, my_vector.shape, my_matrix.shape, my_tensor.shape"
      ],
      "execution_count": 113,
      "outputs": [
        {
          "output_type": "execute_result",
          "data": {
            "text/plain": [
              "(TensorShape([]),\n",
              " TensorShape([3]),\n",
              " TensorShape([2, 3]),\n",
              " TensorShape([2, 3, 3]))"
            ]
          },
          "metadata": {
            "tags": []
          },
          "execution_count": 113
        }
      ]
    },
    {
      "cell_type": "code",
      "metadata": {
        "colab": {
          "base_uri": "https://localhost:8080/"
        },
        "id": "V7g--jKTNvWt",
        "outputId": "d27018c4-fac0-4593-f7ab-e6b324f8698f"
      },
      "source": [
        "# Find the rank\n",
        "my_scalar.ndim, my_vector.ndim, my_matrix.ndim, my_tensor.ndim"
      ],
      "execution_count": 114,
      "outputs": [
        {
          "output_type": "execute_result",
          "data": {
            "text/plain": [
              "(0, 1, 2, 3)"
            ]
          },
          "metadata": {
            "tags": []
          },
          "execution_count": 114
        }
      ]
    },
    {
      "cell_type": "code",
      "metadata": {
        "colab": {
          "base_uri": "https://localhost:8080/"
        },
        "id": "Fq0YxCdJN-fQ",
        "outputId": "9da9af6c-37b3-4097-a9ed-c10a9782f593"
      },
      "source": [
        "# Find the size\n",
        "tf.size(my_scalar), tf.size(my_vector), tf.size(my_matrix), tf.size(my_tensor)"
      ],
      "execution_count": 115,
      "outputs": [
        {
          "output_type": "execute_result",
          "data": {
            "text/plain": [
              "(<tf.Tensor: shape=(), dtype=int32, numpy=1>,\n",
              " <tf.Tensor: shape=(), dtype=int32, numpy=3>,\n",
              " <tf.Tensor: shape=(), dtype=int32, numpy=6>,\n",
              " <tf.Tensor: shape=(), dtype=int32, numpy=18>)"
            ]
          },
          "metadata": {
            "tags": []
          },
          "execution_count": 115
        }
      ]
    },
    {
      "cell_type": "markdown",
      "metadata": {
        "id": "4N5e_E3ZOFlJ"
      },
      "source": [
        "## Create two tensors containing random values between 0 and 1 with shape [5, 300]"
      ]
    },
    {
      "cell_type": "code",
      "metadata": {
        "colab": {
          "base_uri": "https://localhost:8080/"
        },
        "id": "hcUzOAxVWFs-",
        "outputId": "3e10f16e-b8d9-4395-e2c5-b323375e45bc"
      },
      "source": [
        "tf.random.set_seed(42)\n",
        "random_A = tf.constant(tf.random.uniform(shape=(5,300)))\n",
        "random_B = tf.constant(tf.random.uniform(shape=(5,300)))\n",
        "random_A, random_A.shape, random_B, random_B.shape"
      ],
      "execution_count": 116,
      "outputs": [
        {
          "output_type": "execute_result",
          "data": {
            "text/plain": [
              "(<tf.Tensor: shape=(5, 300), dtype=float32, numpy=\n",
              " array([[0.6645621 , 0.44100678, 0.3528825 , ..., 0.31410468, 0.7593535 ,\n",
              "         0.03699052],\n",
              "        [0.532024  , 0.29129946, 0.10571766, ..., 0.54052293, 0.31425726,\n",
              "         0.2200619 ],\n",
              "        [0.08404207, 0.03614604, 0.97732127, ..., 0.21516645, 0.9786098 ,\n",
              "         0.00726748],\n",
              "        [0.7396945 , 0.6653172 , 0.0787828 , ..., 0.7117733 , 0.07013571,\n",
              "         0.9409125 ],\n",
              "        [0.15861344, 0.12024033, 0.27218235, ..., 0.8824879 , 0.1432488 ,\n",
              "         0.44135118]], dtype=float32)>,\n",
              " TensorShape([5, 300]),\n",
              " <tf.Tensor: shape=(5, 300), dtype=float32, numpy=\n",
              " array([[0.68789124, 0.48447883, 0.9309944 , ..., 0.6920762 , 0.33180213,\n",
              "         0.9212563 ],\n",
              "        [0.27369928, 0.10631859, 0.6218617 , ..., 0.4382149 , 0.30427706,\n",
              "         0.51477313],\n",
              "        [0.00920248, 0.37280262, 0.8177401 , ..., 0.56786287, 0.49201214,\n",
              "         0.9892651 ],\n",
              "        [0.88608265, 0.08672249, 0.12160683, ..., 0.91770685, 0.72545695,\n",
              "         0.8280058 ],\n",
              "        [0.36690474, 0.9200133 , 0.9646884 , ..., 0.69012   , 0.7137332 ,\n",
              "         0.2584542 ]], dtype=float32)>,\n",
              " TensorShape([5, 300]))"
            ]
          },
          "metadata": {
            "tags": []
          },
          "execution_count": 116
        }
      ]
    },
    {
      "cell_type": "markdown",
      "metadata": {
        "id": "YxOVnpJ_Wj3y"
      },
      "source": [
        "## Multiply those two tensors using matrix multiplication"
      ]
    },
    {
      "cell_type": "code",
      "metadata": {
        "colab": {
          "base_uri": "https://localhost:8080/"
        },
        "id": "VyGyDlJvXV5v",
        "outputId": "860f167d-954d-481c-c379-d1a44c736557"
      },
      "source": [
        "tf.matmul(random_A, tf.transpose(random_B))"
      ],
      "execution_count": 117,
      "outputs": [
        {
          "output_type": "execute_result",
          "data": {
            "text/plain": [
              "<tf.Tensor: shape=(5, 5), dtype=float32, numpy=\n",
              "array([[80.333435, 73.40498 , 77.15961 , 73.98368 , 80.90053 ],\n",
              "       [75.14637 , 68.80438 , 74.24303 , 71.84184 , 75.60205 ],\n",
              "       [79.7594  , 75.64456 , 77.79758 , 74.748726, 80.55984 ],\n",
              "       [75.085266, 69.06408 , 74.30776 , 72.27615 , 76.05667 ],\n",
              "       [85.05689 , 74.26629 , 78.00687 , 74.886795, 83.13417 ]],\n",
              "      dtype=float32)>"
            ]
          },
          "metadata": {
            "tags": []
          },
          "execution_count": 117
        }
      ]
    },
    {
      "cell_type": "code",
      "metadata": {
        "colab": {
          "base_uri": "https://localhost:8080/"
        },
        "id": "wUW1jmpQXa2w",
        "outputId": "d9ec2fb2-0532-4d5b-910c-c41ef38600d7"
      },
      "source": [
        "tf.matmul(tf.transpose(random_A), random_B)"
      ],
      "execution_count": 118,
      "outputs": [
        {
          "output_type": "execute_result",
          "data": {
            "text/plain": [
              "<tf.Tensor: shape=(300, 300), dtype=float32, numpy=\n",
              "array([[1.317161  , 0.61993605, 1.2612379 , ..., 1.5290778 , 1.0735596 ,\n",
              "        1.6227092 ],\n",
              "       [1.0170685 , 0.42642498, 0.8181824 , ..., 1.1469344 , 0.8212255 ,\n",
              "        1.1739546 ],\n",
              "       [0.45034647, 0.8037954 , 1.4656199 , ..., 1.105671  , 0.88152766,\n",
              "        1.481925  ],\n",
              "       ...,\n",
              "       [1.3204696 , 1.1634867 , 1.7423928 , ..., 1.8386563 , 1.5207756 ,\n",
              "        1.5979093 ],\n",
              "       [0.73207504, 0.90400356, 1.8493464 , ..., 1.3821819 , 0.98218614,\n",
              "        1.924531  ],\n",
              "       [1.0814031 , 0.5316744 , 0.7174167 , ..., 1.2942287 , 1.0804075 ,\n",
              "        1.0476992 ]], dtype=float32)>"
            ]
          },
          "metadata": {
            "tags": []
          },
          "execution_count": 118
        }
      ]
    },
    {
      "cell_type": "markdown",
      "metadata": {
        "id": "8VsEMtQDXqzx"
      },
      "source": [
        "## Multiply the two using dotproduct"
      ]
    },
    {
      "cell_type": "code",
      "metadata": {
        "colab": {
          "base_uri": "https://localhost:8080/"
        },
        "id": "UaNrVJg4YC2M",
        "outputId": "4d8a301f-c47e-4bd9-f49c-24cbfa0a151b"
      },
      "source": [
        "tf.tensordot(random_A, random_B, axes=0)"
      ],
      "execution_count": 119,
      "outputs": [
        {
          "output_type": "execute_result",
          "data": {
            "text/plain": [
              "<tf.Tensor: shape=(5, 300, 5, 300), dtype=float32, numpy=\n",
              "array([[[[4.57146466e-01, 3.21966261e-01, 6.18703604e-01, ...,\n",
              "          4.59927619e-01, 2.20503122e-01, 6.12232029e-01],\n",
              "         [1.81890175e-01, 7.06553087e-02, 4.13265705e-01, ...,\n",
              "          2.91221023e-01, 2.02211007e-01, 3.42098713e-01],\n",
              "         [6.11561956e-03, 2.47750491e-01, 5.43439090e-01, ...,\n",
              "          3.77380133e-01, 3.26972634e-01, 6.57428086e-01],\n",
              "         [5.88856936e-01, 5.76324835e-02, 8.08152854e-02, ...,\n",
              "          6.09873176e-01, 4.82111186e-01, 5.50261259e-01],\n",
              "         [2.43830979e-01, 6.11405969e-01, 6.41095340e-01, ...,\n",
              "          4.58627582e-01, 4.74320024e-01, 1.71758875e-01]],\n",
              "\n",
              "        [[3.03364694e-01, 2.13658452e-01, 4.10574824e-01, ...,\n",
              "          3.05210292e-01, 1.46326989e-01, 4.06280279e-01],\n",
              "         [1.20703243e-01, 4.68872190e-02, 2.74245232e-01, ...,\n",
              "          1.93255737e-01, 1.34188250e-01, 2.27018446e-01],\n",
              "         [4.05835640e-03, 1.64408475e-01, 3.60628933e-01, ...,\n",
              "          2.50431389e-01, 2.16980696e-01, 4.36272621e-01],\n",
              "         [3.90768468e-01, 3.82452086e-02, 5.36294356e-02, ...,\n",
              "          4.04714942e-01, 3.19931448e-01, 3.65156174e-01],\n",
              "         [1.61807477e-01, 4.05732095e-01, 4.25434142e-01, ...,\n",
              "          3.04347605e-01, 3.14761192e-01, 1.13980055e-01]],\n",
              "\n",
              "        [[2.42744789e-01, 1.70964107e-01, 3.28531623e-01, ...,\n",
              "          2.44221583e-01, 1.17087163e-01, 3.25095236e-01],\n",
              "         [9.65836868e-02, 3.75179723e-02, 2.19444111e-01, ...,\n",
              "          1.54638365e-01, 1.07374050e-01, 1.81654438e-01],\n",
              "         [3.24739423e-03, 1.31555527e-01, 2.88566172e-01, ...,\n",
              "          2.00388879e-01, 1.73622474e-01, 3.49094331e-01],\n",
              "         [3.12683076e-01, 3.06028500e-02, 4.29129228e-02, ...,\n",
              "          3.23842704e-01, 2.56001055e-01, 2.92188764e-01],\n",
              "         [1.29474267e-01, 3.24656606e-01, 3.40421677e-01, ...,\n",
              "          2.43531272e-01, 2.51863956e-01, 9.12039652e-02]],\n",
              "\n",
              "        ...,\n",
              "\n",
              "        [[2.16069862e-01, 1.52177066e-01, 2.92429686e-01, ...,\n",
              "          2.17384368e-01, 1.04220599e-01, 2.89370924e-01],\n",
              "         [8.59702229e-02, 3.33951674e-02, 1.95329666e-01, ...,\n",
              "          1.37645349e-01, 9.55748484e-02, 1.61692649e-01],\n",
              "         [2.89054215e-03, 1.17099047e-01, 2.56855994e-01, ...,\n",
              "          1.78368390e-01, 1.54543310e-01, 3.10732782e-01],\n",
              "         [2.78322697e-01, 2.72399411e-02, 3.81972715e-02, ...,\n",
              "          2.88256019e-01, 2.27869421e-01, 2.60080487e-01],\n",
              "         [1.15246490e-01, 2.88980484e-01, 3.03013146e-01, ...,\n",
              "          2.16769919e-01, 2.24186942e-01, 8.11816752e-02]],\n",
              "\n",
              "        [[5.22352636e-01, 3.67890716e-01, 7.06953883e-01, ...,\n",
              "          5.25530517e-01, 2.51955122e-01, 6.99559212e-01],\n",
              "         [2.07834512e-01, 8.07333961e-02, 4.72212881e-01, ...,\n",
              "          3.32760036e-01, 2.31053859e-01, 3.90894800e-01],\n",
              "         [6.98793586e-03, 2.83088982e-01, 6.20953798e-01, ...,\n",
              "          4.31208670e-01, 3.73611152e-01, 7.51201928e-01],\n",
              "         [6.72849953e-01, 6.58530295e-02, 9.23425704e-02, ...,\n",
              "          6.96863949e-01, 5.50878286e-01, 6.28749132e-01],\n",
              "         [2.78610408e-01, 6.98615372e-01, 7.32539535e-01, ...,\n",
              "          5.24045050e-01, 5.41975796e-01, 1.96258113e-01]],\n",
              "\n",
              "        [[2.54454575e-02, 1.79211255e-02, 3.44379693e-02, ...,\n",
              "          2.56002620e-02, 1.22735342e-02, 3.40777524e-02],\n",
              "         [1.01242801e-02, 3.93278059e-03, 2.30029896e-02, ...,\n",
              "          1.62097979e-02, 1.12553677e-02, 1.90417282e-02],\n",
              "         [3.40404571e-04, 1.37901641e-02, 3.02486345e-02, ...,\n",
              "          2.10055448e-02, 1.81997865e-02, 3.65934335e-02],\n",
              "         [3.27766612e-02, 3.20791034e-03, 4.49830014e-03, ...,\n",
              "          3.39464583e-02, 2.68350318e-02, 3.06283683e-02],\n",
              "         [1.35719981e-02, 3.40317748e-02, 3.56843285e-02, ...,\n",
              "          2.55279001e-02, 2.64013652e-02, 9.56035592e-03]]],\n",
              "\n",
              "\n",
              "       [[[3.65974665e-01, 2.57754385e-01, 4.95311379e-01, ...,\n",
              "          3.68201166e-01, 1.76526710e-01, 4.90130484e-01],\n",
              "         [1.45614594e-01, 5.65640442e-02, 3.30845356e-01, ...,\n",
              "          2.33140856e-01, 1.61882713e-01, 2.73871660e-01],\n",
              "         [4.89594042e-03, 1.98339954e-01, 4.35057372e-01, ...,\n",
              "          3.02116692e-01, 2.61762291e-01, 5.26312768e-01],\n",
              "         [4.71417248e-01, 4.61384505e-02, 6.46977499e-02, ...,\n",
              "          4.88242090e-01, 3.85960519e-01, 4.40518975e-01],\n",
              "         [1.95202127e-01, 4.89469171e-01, 5.13237417e-01, ...,\n",
              "          3.67160410e-01, 3.79723221e-01, 1.37503847e-01]],\n",
              "\n",
              "        [[2.00382352e-01, 1.41128421e-01, 2.71198153e-01, ...,\n",
              "          2.01601431e-01, 9.66537818e-02, 2.68361479e-01],\n",
              "         [7.97284544e-02, 3.09705492e-02, 1.81147978e-01, ...,\n",
              "          1.27651766e-01, 8.86357427e-02, 1.49953142e-01],\n",
              "         [2.68067745e-03, 1.08597204e-01, 2.38207251e-01, ...,\n",
              "          1.65418148e-01, 1.43322870e-01, 2.88172394e-01],\n",
              "         [2.58115411e-01, 2.52622161e-02, 3.54240015e-02, ...,\n",
              "          2.67327517e-01, 2.11325213e-01, 2.41197646e-01],\n",
              "         [1.06879152e-01, 2.67999381e-01, 2.81013221e-01, ...,\n",
              "          2.01031581e-01, 2.07910091e-01, 7.52875730e-02]],\n",
              "\n",
              "        [[7.27222487e-02, 5.12179695e-02, 9.84225497e-02, ...,\n",
              "          7.31646791e-02, 3.50773446e-02, 9.73930582e-02],\n",
              "         [2.89348476e-02, 1.12397531e-02, 6.57417625e-02, ...,\n",
              "          4.63270545e-02, 3.21674570e-02, 5.44206090e-02],\n",
              "         [9.72864684e-04, 3.94118205e-02, 8.64495635e-02, ...,\n",
              "          6.00331314e-02, 5.20143732e-02, 1.04582787e-01],\n",
              "         [9.36745852e-02, 9.16809868e-03, 1.28559889e-02, ...,\n",
              "          9.70178172e-02, 7.66936094e-02, 8.75348374e-02],\n",
              "         [3.87883112e-02, 9.72616524e-02, 1.01984598e-01, ...,\n",
              "          7.29578659e-02, 7.54542053e-02, 2.73231734e-02]],\n",
              "\n",
              "        ...,\n",
              "\n",
              "        [[3.71820986e-01, 2.61871904e-01, 5.03223836e-01, ...,\n",
              "          3.74083072e-01, 1.79346666e-01, 4.97960150e-01],\n",
              "         [1.47940740e-01, 5.74676394e-02, 3.36130500e-01, ...,\n",
              "          2.36865208e-01, 1.64468735e-01, 2.78246671e-01],\n",
              "         [4.97415150e-03, 2.01508358e-01, 4.42007273e-01, ...,\n",
              "          3.06942910e-01, 2.65943855e-01, 5.34720480e-01],\n",
              "         [4.78947997e-01, 4.68754955e-02, 6.57312796e-02, ...,\n",
              "          4.96041596e-01, 3.92126113e-01, 4.47556108e-01],\n",
              "         [1.98320419e-01, 4.97288287e-01, 5.21436214e-01, ...,\n",
              "          3.73025686e-01, 3.85789156e-01, 1.39700428e-01]],\n",
              "\n",
              "        [[2.16174826e-01, 1.52250990e-01, 2.92571753e-01, ...,\n",
              "          2.17489973e-01, 1.04271233e-01, 2.89511472e-01],\n",
              "         [8.60119909e-02, 3.34113911e-02, 1.95424557e-01, ...,\n",
              "          1.37712210e-01, 9.56212804e-02, 1.61771193e-01],\n",
              "         [2.89194635e-03, 1.17155932e-01, 2.56980747e-01, ...,\n",
              "          1.78455025e-01, 1.54618397e-01, 3.10883731e-01],\n",
              "         [2.78457910e-01, 2.72531733e-02, 3.82158272e-02, ...,\n",
              "          2.88396031e-01, 2.27980122e-01, 2.60206848e-01],\n",
              "         [1.15302481e-01, 2.89120853e-01, 3.03160340e-01, ...,\n",
              "          2.16875210e-01, 2.24295840e-01, 8.12211111e-02]],\n",
              "\n",
              "        [[1.51378646e-01, 1.06615335e-01, 2.04876393e-01, ...,\n",
              "          1.52299598e-01, 7.30170086e-02, 2.02733412e-01],\n",
              "         [6.02307841e-02, 2.33966708e-02, 1.36848062e-01, ...,\n",
              "          9.64343995e-02, 6.69597909e-02, 1.13281950e-01],\n",
              "         [2.02511530e-03, 8.20396543e-02, 1.79953441e-01, ...,\n",
              "          1.24964982e-01, 1.08273126e-01, 2.17699558e-01],\n",
              "         [1.94993034e-01, 1.90843157e-02, 2.67610289e-02, ...,\n",
              "          2.01952308e-01, 1.59645438e-01, 1.82212532e-01],\n",
              "         [8.07417557e-02, 2.02459872e-01, 2.12291166e-01, ...,\n",
              "          1.51869118e-01, 1.57065481e-01, 5.68759218e-02]]],\n",
              "\n",
              "\n",
              "       [[[5.78118041e-02, 4.07166034e-02, 7.82426968e-02, ...,\n",
              "          5.81635199e-02, 2.78853383e-02, 7.74242878e-02],\n",
              "         [2.30022557e-02, 8.93523451e-03, 5.22625446e-02, ...,\n",
              "          3.68284881e-02, 2.55720746e-02, 4.32626009e-02],\n",
              "         [7.73395528e-04, 3.13311033e-02, 6.87245727e-02, ...,\n",
              "          4.77243736e-02, 4.13497202e-02, 8.31398889e-02],\n",
              "         [7.44682252e-02, 7.28833815e-03, 1.02200899e-02, ...,\n",
              "          7.71259889e-02, 6.09689057e-02, 6.95873201e-02],\n",
              "         [3.08354348e-02, 7.73198232e-02, 8.10744166e-02, ...,\n",
              "          5.79991117e-02, 5.99836186e-02, 2.17210278e-02]],\n",
              "\n",
              "        [[2.48645470e-02, 1.75119936e-02, 3.36517654e-02, ...,\n",
              "          2.50158180e-02, 1.19933346e-02, 3.32997702e-02],\n",
              "         [9.89314634e-03, 3.84299667e-03, 2.24778410e-02, ...,\n",
              "          1.58397350e-02, 1.09984120e-02, 1.86070129e-02],\n",
              "         [3.32633266e-04, 1.34753399e-02, 2.95580700e-02, ...,\n",
              "          2.05259975e-02, 1.77842937e-02, 3.57580185e-02],\n",
              "         [3.20283845e-02, 3.13467509e-03, 4.39560600e-03, ...,\n",
              "          3.31714712e-02, 2.62224004e-02, 2.99291350e-02],\n",
              "         [1.32621545e-02, 3.32548432e-02, 3.48696709e-02, ...,\n",
              "          2.49451082e-02, 2.57986318e-02, 9.34209675e-03]],\n",
              "\n",
              "        [[6.72290742e-01, 4.73491460e-01, 9.09880638e-01, ...,\n",
              "          6.76380813e-01, 3.24277282e-01, 9.00363386e-01],\n",
              "         [2.67492145e-01, 1.03907421e-01, 6.07758641e-01, ...,\n",
              "          4.28276747e-01, 2.97376454e-01, 5.03098726e-01],\n",
              "         [8.99377931e-03, 3.64347935e-01, 7.99194753e-01, ...,\n",
              "          5.54984450e-01, 4.80853945e-01, 9.66829777e-01],\n",
              "         [8.65987420e-01, 8.47557336e-02, 1.18848935e-01, ...,\n",
              "          8.96894395e-01, 7.09004521e-01, 8.09227645e-01],\n",
              "         [3.58583808e-01, 8.99148583e-01, 9.42810535e-01, ...,\n",
              "          6.74468935e-01, 6.97546661e-01, 2.52592802e-01]],\n",
              "\n",
              "        ...,\n",
              "\n",
              "        [[1.48011118e-01, 1.04243591e-01, 2.00318754e-01, ...,\n",
              "          1.48911580e-01, 7.13926852e-02, 1.98223442e-01],\n",
              "         [5.88909015e-02, 2.28761937e-02, 1.33803770e-01, ...,\n",
              "          9.42891464e-02, 6.54702187e-02, 1.10761903e-01],\n",
              "         [1.98006490e-03, 8.02146122e-02, 1.75950229e-01, ...,\n",
              "          1.22185037e-01, 1.05864502e-01, 2.12856650e-01],\n",
              "         [1.90655261e-01, 1.86597705e-02, 2.61657089e-02, ...,\n",
              "          1.97459728e-01, 1.56094000e-01, 1.78159073e-01],\n",
              "         [7.89455920e-02, 1.97955996e-01, 2.07568586e-01, ...,\n",
              "          1.48490667e-01, 1.53571442e-01, 5.56106716e-02]],\n",
              "\n",
              "        [[6.73177123e-01, 4.74115729e-01, 9.11080241e-01, ...,\n",
              "          6.77272558e-01, 3.24704826e-01, 9.01550472e-01],\n",
              "         [2.67844796e-01, 1.04044415e-01, 6.08559966e-01, ...,\n",
              "          4.28841382e-01, 2.97768503e-01, 5.03762007e-01],\n",
              "         [9.00563784e-03, 3.64828289e-01, 8.00248444e-01, ...,\n",
              "          5.55716157e-01, 4.81487900e-01, 9.68104482e-01],\n",
              "         [8.67129147e-01, 8.48674849e-02, 1.19005635e-01, ...,\n",
              "          8.98076892e-01, 7.09939301e-01, 8.10294569e-01],\n",
              "         [3.59056562e-01, 9.00334060e-01, 9.44053531e-01, ...,\n",
              "          6.75358176e-01, 6.98466301e-01, 2.52925813e-01]],\n",
              "\n",
              "        [[4.99923248e-03, 3.52093787e-03, 6.76597841e-03, ...,\n",
              "          5.02964668e-03, 2.41136365e-03, 6.69520721e-03],\n",
              "         [1.98910269e-03, 7.72667758e-04, 4.51936433e-03, ...,\n",
              "          3.18471598e-03, 2.21132603e-03, 3.74110090e-03],\n",
              "         [6.68787980e-05, 2.70933378e-03, 5.94290579e-03, ...,\n",
              "          4.12692921e-03, 3.57568590e-03, 7.18945917e-03],\n",
              "         [6.43958384e-03, 6.30253577e-04, 8.83774599e-04, ...,\n",
              "          6.66941190e-03, 5.27224038e-03, 6.01751171e-03],\n",
              "         [2.66647106e-03, 6.68617385e-03, 7.01084919e-03, ...,\n",
              "          5.01542957e-03, 5.18703833e-03, 1.87830953e-03]]],\n",
              "\n",
              "\n",
              "       [[[5.08829355e-01, 3.58366311e-01, 6.88651383e-01, ...,\n",
              "          5.11924922e-01, 2.45432198e-01, 6.81448221e-01],\n",
              "         [2.02453852e-01, 7.86432773e-02, 4.59987670e-01, ...,\n",
              "          3.24145138e-01, 2.25072056e-01, 3.80774856e-01],\n",
              "         [6.80702366e-03, 2.75760025e-01, 6.04877830e-01, ...,\n",
              "          4.20045018e-01, 3.63938659e-01, 7.31753945e-01],\n",
              "         [6.55430436e-01, 6.41481504e-02, 8.99518952e-02, ...,\n",
              "          6.78822696e-01, 5.36616504e-01, 6.12471282e-01],\n",
              "         [2.71397412e-01, 6.80528760e-01, 7.13574708e-01, ...,\n",
              "          5.10477960e-01, 5.27944505e-01, 1.91177145e-01]],\n",
              "\n",
              "        [[4.57665861e-01, 3.22332084e-01, 6.19406581e-01, ...,\n",
              "          4.60450202e-01, 2.20753655e-01, 6.12927616e-01],\n",
              "         [1.82096839e-01, 7.07355887e-02, 4.13735271e-01, ...,\n",
              "          2.91551888e-01, 2.02440754e-01, 3.42487395e-01],\n",
              "         [6.12256816e-03, 2.48031989e-01, 5.44056535e-01, ...,\n",
              "          3.77808928e-01, 3.27344120e-01, 6.58175051e-01],\n",
              "         [5.89525998e-01, 5.76979630e-02, 8.09071139e-02, ...,\n",
              "          6.10566139e-01, 4.82658982e-01, 5.50886452e-01],\n",
              "         [2.44108021e-01, 6.12100661e-01, 6.41823769e-01, ...,\n",
              "          4.59148675e-01, 4.74858969e-01, 1.71954021e-01]],\n",
              "\n",
              "        [[5.41939959e-02, 3.81685980e-02, 7.33463392e-02, ...,\n",
              "          5.45236990e-02, 2.61403006e-02, 7.25791454e-02],\n",
              "         [2.15627942e-02, 8.37607589e-03, 4.89920042e-02, ...,\n",
              "          3.45237963e-02, 2.39717979e-02, 4.05552685e-02],\n",
              "         [7.24997139e-04, 2.93704327e-02, 6.44238517e-02, ...,\n",
              "          4.47378233e-02, 3.87620926e-02, 7.79370666e-02],\n",
              "         [6.98080659e-02, 6.83224062e-03, 9.58052557e-03, ...,\n",
              "          7.22995102e-02, 5.71535267e-02, 6.52326122e-02],\n",
              "         [2.89057810e-02, 7.24812225e-02, 7.60008544e-02, ...,\n",
              "          5.43695837e-02, 5.62298968e-02, 2.03617457e-02]],\n",
              "\n",
              "        ...,\n",
              "\n",
              "        [[4.89622593e-01, 3.44839096e-01, 6.62656903e-01, ...,\n",
              "          4.92601335e-01, 2.36167893e-01, 6.55725598e-01],\n",
              "         [1.94811836e-01, 7.56747350e-02, 4.42624539e-01, ...,\n",
              "          3.11909646e-01, 2.16576278e-01, 3.66401762e-01],\n",
              "         [6.55007968e-03, 2.65350938e-01, 5.82045555e-01, ...,\n",
              "          4.04189616e-01, 3.50201100e-01, 7.04132438e-01],\n",
              "         [6.30689979e-01, 6.17267527e-02, 8.65564868e-02, ...,\n",
              "          6.53199196e-01, 5.16360879e-01, 5.89352369e-01],\n",
              "         [2.61152983e-01, 6.54840887e-01, 6.86639428e-01, ...,\n",
              "          4.91208971e-01, 5.08016229e-01, 1.83960795e-01]],\n",
              "\n",
              "        [[4.82457429e-02, 3.39792669e-02, 6.52959570e-02, ...,\n",
              "          4.85392585e-02, 2.32711788e-02, 6.46129698e-02],\n",
              "         [1.91960949e-02, 7.45673012e-03, 4.36147116e-02, ...,\n",
              "          3.07345148e-02, 2.13406887e-02, 3.61039788e-02],\n",
              "         [6.45422493e-04, 2.61467770e-02, 5.73527850e-02, ...,\n",
              "          3.98274660e-02, 3.45076211e-02, 6.93828091e-02],\n",
              "         [6.21460378e-02, 6.08234387e-03, 8.52898136e-03, ...,\n",
              "          6.43640235e-02, 5.08804396e-02, 5.80727756e-02],\n",
              "         [2.57331245e-02, 6.45257905e-02, 6.76591098e-02, ...,\n",
              "          4.84020561e-02, 5.00581861e-02, 1.81268696e-02]],\n",
              "\n",
              "        [[6.47245467e-01, 4.55852181e-01, 8.75984251e-01, ...,\n",
              "          6.51183128e-01, 3.12196761e-01, 8.66821587e-01],\n",
              "         [2.57527083e-01, 1.00036494e-01, 5.85117459e-01, ...,\n",
              "          4.12321866e-01, 2.86298096e-01, 4.84356463e-01],\n",
              "         [8.65872856e-03, 3.50774646e-01, 7.69421875e-01, ...,\n",
              "          5.34309268e-01, 4.62940365e-01, 9.30811882e-01],\n",
              "         [8.33726227e-01, 8.15982744e-02, 1.14421383e-01, ...,\n",
              "          8.63481820e-01, 6.82591498e-01, 7.79080987e-01],\n",
              "         [3.45225245e-01, 8.65652025e-01, 9.07687366e-01, ...,\n",
              "          6.49342477e-01, 6.71560466e-01, 2.43182793e-01]]],\n",
              "\n",
              "\n",
              "       [[[1.09108798e-01, 7.68448561e-02, 1.47668228e-01, ...,\n",
              "          1.09772593e-01, 5.26282787e-02, 1.46123633e-01],\n",
              "         [4.34123874e-02, 1.68635584e-02, 9.86356214e-02, ...,\n",
              "          6.95067719e-02, 4.82624322e-02, 8.16499367e-02],\n",
              "         [1.45963707e-03, 5.91315068e-02, 1.29704565e-01, ...,\n",
              "          9.00706872e-02, 7.80397430e-02, 1.56910747e-01],\n",
              "         [1.40544623e-01, 1.37553532e-02, 1.92884784e-02, ...,\n",
              "          1.45560637e-01, 1.15067229e-01, 1.31332844e-01],\n",
              "         [5.81960231e-02, 1.45926476e-01, 1.53012559e-01, ...,\n",
              "          1.09462306e-01, 1.13207683e-01, 4.09943126e-02]],\n",
              "\n",
              "        [[8.27122703e-02, 5.82538955e-02, 1.11943074e-01, ...,\n",
              "          8.32154751e-02, 3.98959965e-02, 1.10772163e-01],\n",
              "         [3.29096913e-02, 1.27837826e-02, 7.47728571e-02, ...,\n",
              "          5.26911058e-02, 3.65863740e-02, 6.18964918e-02],\n",
              "         [1.10650924e-03, 4.48259115e-02, 9.83253345e-02, ...,\n",
              "          6.82800189e-02, 5.91597036e-02, 1.18949562e-01],\n",
              "         [1.06542870e-01, 1.04275411e-02, 1.46220447e-02, ...,\n",
              "          1.10345371e-01, 8.72291848e-02, 9.95596871e-02],\n",
              "         [4.41167466e-02, 1.10622704e-01, 1.15994453e-01, ...,\n",
              "          8.29802528e-02, 8.58195126e-02, 3.10766194e-02]],\n",
              "\n",
              "        [[1.87231854e-01, 1.31866589e-01, 2.53400236e-01, ...,\n",
              "          1.88370928e-01, 9.03106853e-02, 2.50749707e-01],\n",
              "         [7.44961128e-02, 2.89380439e-02, 1.69259772e-01, ...,\n",
              "          1.19274355e-01, 8.28188434e-02, 1.40112162e-01],\n",
              "         [2.50475272e-03, 1.01470292e-01, 2.22574413e-01, ...,\n",
              "          1.54562250e-01, 1.33917019e-01, 2.69260496e-01],\n",
              "         [2.41176054e-01, 2.36043315e-02, 3.30992304e-02, ...,\n",
              "          2.49783605e-01, 1.97456568e-01, 2.25368559e-01],\n",
              "         [9.98649895e-02, 2.50411391e-01, 2.62571156e-01, ...,\n",
              "          1.87838480e-01, 1.94265574e-01, 7.03466684e-02]],\n",
              "\n",
              "        ...,\n",
              "\n",
              "        [[6.07055724e-01, 4.27546710e-01, 8.21591258e-01, ...,\n",
              "          6.10748887e-01, 2.92811364e-01, 8.12997520e-01],\n",
              "         [2.41536304e-01, 9.38248709e-02, 5.48785388e-01, ...,\n",
              "          3.86719346e-01, 2.68520832e-01, 4.54281062e-01],\n",
              "         [8.12107790e-03, 3.28993797e-01, 7.21645713e-01, ...,\n",
              "          5.01132131e-01, 4.34194773e-01, 8.73014450e-01],\n",
              "         [7.81957209e-01, 7.65315518e-02, 1.07316554e-01, ...,\n",
              "          8.09865177e-01, 6.40206993e-01, 7.30705082e-01],\n",
              "         [3.23789001e-01, 8.11900616e-01, 8.51325870e-01, ...,\n",
              "          6.09022558e-01, 6.29860878e-01, 2.28082702e-01]],\n",
              "\n",
              "        [[9.85395908e-02, 6.94010109e-02, 1.33363828e-01, ...,\n",
              "          9.91390869e-02, 4.75302562e-02, 1.31968856e-01],\n",
              "         [3.92070934e-02, 1.52300103e-02, 8.90809372e-02, ...,\n",
              "          6.27737567e-02, 4.35873233e-02, 7.37406313e-02],\n",
              "         [1.31824426e-03, 5.34035265e-02, 1.17140286e-01, ...,\n",
              "          8.13456699e-02, 7.04801455e-02, 1.41711026e-01],\n",
              "         [1.26930267e-01, 1.24228932e-02, 1.74200311e-02, ...,\n",
              "          1.31460398e-01, 1.03920832e-01, 1.18610837e-01],\n",
              "         [5.25586605e-02, 1.31790802e-01, 1.38190448e-01, ...,\n",
              "          9.88588557e-02, 1.02241419e-01, 3.70232537e-02]],\n",
              "\n",
              "        [[3.03601623e-01, 2.13825300e-01, 4.10895467e-01, ...,\n",
              "          3.05448651e-01, 1.46441266e-01, 4.06597555e-01],\n",
              "         [1.20797500e-01, 4.69238348e-02, 2.74459392e-01, ...,\n",
              "          1.93406656e-01, 1.34293035e-01, 2.27195725e-01],\n",
              "         [4.06152569e-03, 1.64536878e-01, 3.60910535e-01, ...,\n",
              "          2.50626951e-01, 2.17150137e-01, 4.36613321e-01],\n",
              "         [3.91073614e-01, 3.82750742e-02, 5.36713153e-02, ...,\n",
              "          4.05030996e-01, 3.20181280e-01, 3.65441322e-01],\n",
              "         [1.61933839e-01, 4.06048954e-01, 4.25766379e-01, ...,\n",
              "          3.04585278e-01, 3.15006971e-01, 1.14069067e-01]]]],\n",
              "      dtype=float32)>"
            ]
          },
          "metadata": {
            "tags": []
          },
          "execution_count": 119
        }
      ]
    },
    {
      "cell_type": "code",
      "metadata": {
        "id": "hrWE28HPYG9r"
      },
      "source": [
        ""
      ],
      "execution_count": 119,
      "outputs": []
    },
    {
      "cell_type": "markdown",
      "metadata": {
        "id": "V5oXndlmYTap"
      },
      "source": [
        "## Create a tensor with random values between 0 and 1 with shape (224, 224, 3)"
      ]
    },
    {
      "cell_type": "code",
      "metadata": {
        "colab": {
          "base_uri": "https://localhost:8080/"
        },
        "id": "vO2_vpRXbvs6",
        "outputId": "712dc76d-df74-49b0-c013-5611015234b0"
      },
      "source": [
        "random_C = tf.constant(tf.random.uniform(shape=(224,224,3)))\n",
        "random_C, random_C.shape"
      ],
      "execution_count": 120,
      "outputs": [
        {
          "output_type": "execute_result",
          "data": {
            "text/plain": [
              "(<tf.Tensor: shape=(224, 224, 3), dtype=float32, numpy=\n",
              " array([[[0.7413678 , 0.62854624, 0.01738465],\n",
              "         [0.3431449 , 0.51063764, 0.3777541 ],\n",
              "         [0.07321596, 0.02137029, 0.2871771 ],\n",
              "         ...,\n",
              "         [0.98953485, 0.45382905, 0.2006687 ],\n",
              "         [0.6295223 , 0.4937899 , 0.01816809],\n",
              "         [0.95386636, 0.11542463, 0.85691285]],\n",
              " \n",
              "        [[0.78435016, 0.7826872 , 0.87936425],\n",
              "         [0.24906898, 0.3207239 , 0.10955775],\n",
              "         [0.543224  , 0.7151396 , 0.40334642],\n",
              "         ...,\n",
              "         [0.2445668 , 0.01746976, 0.9036933 ],\n",
              "         [0.02975535, 0.592268  , 0.9877522 ],\n",
              "         [0.36701274, 0.33112562, 0.5638567 ]],\n",
              " \n",
              "        [[0.15829337, 0.7288823 , 0.3366307 ],\n",
              "         [0.70792687, 0.16910625, 0.9429966 ],\n",
              "         [0.10120225, 0.5919596 , 0.8687303 ],\n",
              "         ...,\n",
              "         [0.28134012, 0.10011208, 0.37038183],\n",
              "         [0.77874243, 0.05421627, 0.4664607 ],\n",
              "         [0.2549187 , 0.7968637 , 0.83405185]],\n",
              " \n",
              "        ...,\n",
              " \n",
              "        [[0.32922816, 0.06343532, 0.23936498],\n",
              "         [0.42692196, 0.3615111 , 0.901929  ],\n",
              "         [0.8320831 , 0.21068895, 0.08272386],\n",
              "         ...,\n",
              "         [0.65110314, 0.40780962, 0.25967455],\n",
              "         [0.9018173 , 0.8245677 , 0.16757596],\n",
              "         [0.41854453, 0.19092035, 0.2523303 ]],\n",
              " \n",
              "        [[0.7064005 , 0.222404  , 0.82219553],\n",
              "         [0.8235872 , 0.76544905, 0.80999327],\n",
              "         [0.1100682 , 0.00520217, 0.6127168 ],\n",
              "         ...,\n",
              "         [0.98068535, 0.8958733 , 0.17706168],\n",
              "         [0.4252876 , 0.02087164, 0.496238  ],\n",
              "         [0.6599953 , 0.58505726, 0.7089884 ]],\n",
              " \n",
              "        [[0.90045786, 0.45803344, 0.9050728 ],\n",
              "         [0.92233   , 0.38456154, 0.30329156],\n",
              "         [0.03238845, 0.18773472, 0.9096625 ],\n",
              "         ...,\n",
              "         [0.4445815 , 0.04578841, 0.21090853],\n",
              "         [0.25966525, 0.24412918, 0.76123405],\n",
              "         [0.9643831 , 0.32687283, 0.4828869 ]]], dtype=float32)>,\n",
              " TensorShape([224, 224, 3]))"
            ]
          },
          "metadata": {
            "tags": []
          },
          "execution_count": 120
        }
      ]
    },
    {
      "cell_type": "markdown",
      "metadata": {
        "id": "kubXsP5hb6vu"
      },
      "source": [
        "## Find the min and max values of the above"
      ]
    },
    {
      "cell_type": "code",
      "metadata": {
        "colab": {
          "base_uri": "https://localhost:8080/"
        },
        "id": "WG2gqHE7cFun",
        "outputId": "29a65382-ef27-489a-9199-97e6bafe20a0"
      },
      "source": [
        "# Minimum value\n",
        "tf.reduce_min(random_C)"
      ],
      "execution_count": 121,
      "outputs": [
        {
          "output_type": "execute_result",
          "data": {
            "text/plain": [
              "<tf.Tensor: shape=(), dtype=float32, numpy=2.3841858e-07>"
            ]
          },
          "metadata": {
            "tags": []
          },
          "execution_count": 121
        }
      ]
    },
    {
      "cell_type": "code",
      "metadata": {
        "colab": {
          "base_uri": "https://localhost:8080/"
        },
        "id": "MNJz5a_XcRFe",
        "outputId": "57633029-a179-46d7-8d7c-2e31b4636074"
      },
      "source": [
        "# Maximum value\n",
        "tf.reduce_max(random_C)"
      ],
      "execution_count": 122,
      "outputs": [
        {
          "output_type": "execute_result",
          "data": {
            "text/plain": [
              "<tf.Tensor: shape=(), dtype=float32, numpy=0.9999918>"
            ]
          },
          "metadata": {
            "tags": []
          },
          "execution_count": 122
        }
      ]
    },
    {
      "cell_type": "markdown",
      "metadata": {
        "id": "al1cagAr4U0t"
      },
      "source": [
        "## Create a tensor with random values of shape (1, 224, 224, 3), then squeeze it to (224, 224, 3)"
      ]
    },
    {
      "cell_type": "code",
      "metadata": {
        "colab": {
          "base_uri": "https://localhost:8080/"
        },
        "id": "VH7pB2Hw4ptF",
        "outputId": "211fbc97-324a-49ee-931f-2707c1180fc3"
      },
      "source": [
        "random_D = tf.constant(tf.random.uniform(shape=(1,224,224,3)))\n",
        "random_D"
      ],
      "execution_count": 124,
      "outputs": [
        {
          "output_type": "execute_result",
          "data": {
            "text/plain": [
              "<tf.Tensor: shape=(1, 224, 224, 3), dtype=float32, numpy=\n",
              "array([[[[8.0315602e-01, 4.9777734e-01, 3.7054038e-01],\n",
              "         [9.1186738e-01, 6.3764203e-01, 1.8209696e-01],\n",
              "         [6.3791955e-01, 2.7701473e-01, 4.2271137e-02],\n",
              "         ...,\n",
              "         [1.0830712e-01, 4.5979273e-01, 2.5716281e-01],\n",
              "         [8.7138689e-01, 1.8434000e-01, 4.4757760e-01],\n",
              "         [7.4110627e-02, 9.0852141e-01, 5.3693414e-01]],\n",
              "\n",
              "        [[5.5596435e-01, 6.8776274e-01, 7.6051474e-02],\n",
              "         [1.6737962e-01, 7.1785092e-01, 2.7642274e-01],\n",
              "         [2.6995218e-01, 3.2203627e-01, 8.8224900e-01],\n",
              "         ...,\n",
              "         [4.8168826e-01, 5.0150025e-01, 8.6756039e-01],\n",
              "         [4.1261053e-01, 1.2770486e-01, 5.8186901e-01],\n",
              "         [2.5495613e-01, 3.9036548e-01, 9.8529553e-01]],\n",
              "\n",
              "        [[8.0935180e-01, 1.9740558e-01, 3.5899937e-01],\n",
              "         [1.1216915e-01, 9.1016293e-04, 3.6382091e-01],\n",
              "         [5.1202202e-01, 3.9188230e-01, 8.8335538e-01],\n",
              "         ...,\n",
              "         [2.0133841e-01, 9.1663551e-01, 1.9890130e-01],\n",
              "         [8.0388057e-01, 3.9227080e-01, 2.9688942e-01],\n",
              "         [8.9319050e-01, 2.9692888e-01, 2.6492047e-01]],\n",
              "\n",
              "        ...,\n",
              "\n",
              "        [[7.3653197e-01, 5.9242892e-01, 8.1022096e-01],\n",
              "         [3.2385099e-01, 9.4225824e-01, 8.4279275e-01],\n",
              "         [5.2548873e-01, 8.8999271e-02, 1.2152910e-01],\n",
              "         ...,\n",
              "         [4.4721401e-01, 2.0952868e-01, 9.3782067e-02],\n",
              "         [5.1644707e-01, 7.4352753e-01, 7.4530303e-01],\n",
              "         [4.3693781e-03, 1.0793984e-01, 1.7783213e-01]],\n",
              "\n",
              "        [[7.6054347e-01, 8.0798697e-01, 3.9492905e-01],\n",
              "         [4.0577006e-01, 9.6265435e-02, 8.8253260e-01],\n",
              "         [6.7700970e-01, 7.8380144e-01, 9.3841922e-01],\n",
              "         ...,\n",
              "         [3.1409883e-01, 2.0651186e-01, 5.1043892e-01],\n",
              "         [6.6967010e-02, 3.1983531e-01, 7.4677360e-01],\n",
              "         [7.0548081e-01, 8.2629704e-01, 7.0540214e-01]],\n",
              "\n",
              "        [[6.4126742e-01, 5.8223104e-01, 5.1815867e-02],\n",
              "         [6.2203467e-01, 5.7224095e-01, 9.0543139e-01],\n",
              "         [9.6411026e-01, 2.6061213e-01, 7.4845552e-02],\n",
              "         ...,\n",
              "         [5.8922923e-01, 1.2655807e-01, 7.0523393e-01],\n",
              "         [9.5485377e-01, 6.6495812e-01, 6.4105380e-01],\n",
              "         [4.4474745e-01, 9.7424459e-01, 9.1788459e-01]]]], dtype=float32)>"
            ]
          },
          "metadata": {
            "tags": []
          },
          "execution_count": 124
        }
      ]
    },
    {
      "cell_type": "code",
      "metadata": {
        "colab": {
          "base_uri": "https://localhost:8080/"
        },
        "id": "oAa9Fc9G4y-O",
        "outputId": "a62aefb0-b7fc-46f4-fc97-18e48acd5b06"
      },
      "source": [
        "tf.squeeze(random_D).shape"
      ],
      "execution_count": 126,
      "outputs": [
        {
          "output_type": "execute_result",
          "data": {
            "text/plain": [
              "TensorShape([224, 224, 3])"
            ]
          },
          "metadata": {
            "tags": []
          },
          "execution_count": 126
        }
      ]
    },
    {
      "cell_type": "markdown",
      "metadata": {
        "id": "GrQcL5Xh485g"
      },
      "source": [
        "## Create a tensor with shape 10, using your own choice of values, then find the index which has the maximum value"
      ]
    },
    {
      "cell_type": "code",
      "metadata": {
        "colab": {
          "base_uri": "https://localhost:8080/"
        },
        "id": "NnOlXc7g5PaK",
        "outputId": "92aa98df-90c8-4f5b-8d7c-8153cfa6ce70"
      },
      "source": [
        "my_own_tensor = tf.constant([3, 5, 3, 0, 8, 10, 5, 4, 7, 1])\n",
        "my_own_tensor"
      ],
      "execution_count": 128,
      "outputs": [
        {
          "output_type": "execute_result",
          "data": {
            "text/plain": [
              "<tf.Tensor: shape=(10,), dtype=int32, numpy=array([ 3,  5,  3,  0,  8, 10,  5,  4,  7,  1], dtype=int32)>"
            ]
          },
          "metadata": {
            "tags": []
          },
          "execution_count": 128
        }
      ]
    },
    {
      "cell_type": "code",
      "metadata": {
        "colab": {
          "base_uri": "https://localhost:8080/"
        },
        "id": "eUbYm0o05fop",
        "outputId": "f2dd7f17-2cb6-4b35-b680-87b09f99ddbf"
      },
      "source": [
        "tf.argmax(my_own_tensor)"
      ],
      "execution_count": 129,
      "outputs": [
        {
          "output_type": "execute_result",
          "data": {
            "text/plain": [
              "<tf.Tensor: shape=(), dtype=int64, numpy=5>"
            ]
          },
          "metadata": {
            "tags": []
          },
          "execution_count": 129
        }
      ]
    },
    {
      "cell_type": "code",
      "metadata": {
        "colab": {
          "base_uri": "https://localhost:8080/"
        },
        "id": "7VuAuQeK5m1a",
        "outputId": "66088389-671b-4b9e-dd89-60e8e253b8a5"
      },
      "source": [
        "my_own_tensor[tf.argmax(my_own_tensor)]"
      ],
      "execution_count": 130,
      "outputs": [
        {
          "output_type": "execute_result",
          "data": {
            "text/plain": [
              "<tf.Tensor: shape=(), dtype=int32, numpy=10>"
            ]
          },
          "metadata": {
            "tags": []
          },
          "execution_count": 130
        }
      ]
    },
    {
      "cell_type": "markdown",
      "metadata": {
        "id": "hFqY_CLB5rRs"
      },
      "source": [
        "## One-hot-encode the above tensor"
      ]
    },
    {
      "cell_type": "code",
      "metadata": {
        "colab": {
          "base_uri": "https://localhost:8080/"
        },
        "id": "7CpAUp1K5yqI",
        "outputId": "70356e9d-aaf8-4a3b-cae9-9aad1cd19280"
      },
      "source": [
        "tf.one_hot(my_own_tensor, depth=tf.size(my_own_tensor))"
      ],
      "execution_count": 132,
      "outputs": [
        {
          "output_type": "execute_result",
          "data": {
            "text/plain": [
              "<tf.Tensor: shape=(10, 10), dtype=float32, numpy=\n",
              "array([[0., 0., 0., 1., 0., 0., 0., 0., 0., 0.],\n",
              "       [0., 0., 0., 0., 0., 1., 0., 0., 0., 0.],\n",
              "       [0., 0., 0., 1., 0., 0., 0., 0., 0., 0.],\n",
              "       [1., 0., 0., 0., 0., 0., 0., 0., 0., 0.],\n",
              "       [0., 0., 0., 0., 0., 0., 0., 0., 1., 0.],\n",
              "       [0., 0., 0., 0., 0., 0., 0., 0., 0., 0.],\n",
              "       [0., 0., 0., 0., 0., 1., 0., 0., 0., 0.],\n",
              "       [0., 0., 0., 0., 1., 0., 0., 0., 0., 0.],\n",
              "       [0., 0., 0., 0., 0., 0., 0., 1., 0., 0.],\n",
              "       [0., 1., 0., 0., 0., 0., 0., 0., 0., 0.]], dtype=float32)>"
            ]
          },
          "metadata": {
            "tags": []
          },
          "execution_count": 132
        }
      ]
    },
    {
      "cell_type": "code",
      "metadata": {
        "id": "Azrf87XK52GT"
      },
      "source": [
        ""
      ],
      "execution_count": null,
      "outputs": []
    }
  ]
}